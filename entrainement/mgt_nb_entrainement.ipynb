{
 "cells": [
  {
   "cell_type": "markdown",
   "metadata": {},
   "source": [
    "# Projet MonGueuleTon"
   ]
  },
  {
   "cell_type": "markdown",
   "metadata": {},
   "source": [
    "Nous allons dans ce notebook entrainer un classifieur d'image de nourriture, avec la base de donnée *Food-101*.   \n",
    "\n",
    "Cette base de donnée est composée de 101 catégories d'images, chacune composés de 1000 exemple d'images."
   ]
  },
  {
   "cell_type": "markdown",
   "metadata": {},
   "source": [
    "## Imports"
   ]
  },
  {
   "cell_type": "code",
   "execution_count": 1,
   "metadata": {
    "ExecuteTime": {
     "end_time": "2020-10-30T11:23:19.183369Z",
     "start_time": "2020-10-30T11:23:18.919955Z"
    },
    "papermill": {
     "duration": 0.425314,
     "end_time": "2018-11-12T11:46:22.409305",
     "exception": false,
     "start_time": "2018-11-12T11:46:21.983991",
     "status": "completed"
    },
    "tags": []
   },
   "outputs": [],
   "source": [
    "import pandas as pd\n",
    "import requests\n",
    "import glob\n",
    "from io import BytesIO\n",
    "import numpy as np\n",
    "import os\n",
    "import shutil\n",
    "import pprint\n",
    "import json\n"
   ]
  },
  {
   "cell_type": "code",
   "execution_count": 2,
   "metadata": {},
   "outputs": [
    {
     "data": {
      "text/plain": [
       "'2.0.19'"
      ]
     },
     "execution_count": 2,
     "metadata": {},
     "output_type": "execute_result"
    }
   ],
   "source": [
    "import fastai\n",
    "\n",
    "fastai.__version__"
   ]
  },
  {
   "cell_type": "code",
   "execution_count": 3,
   "metadata": {
    "ExecuteTime": {
     "end_time": "2020-10-30T11:23:22.292925Z",
     "start_time": "2020-10-30T11:23:22.201706Z"
    },
    "papermill": {
     "duration": 1.85709,
     "end_time": "2018-11-12T11:46:24.296457",
     "exception": false,
     "start_time": "2018-11-12T11:46:22.439367",
     "status": "completed"
    },
    "tags": []
   },
   "outputs": [],
   "source": [
    "from fastai import *\n",
    "from fastai.vision import *\n",
    "from fastai.imports import *"
   ]
  },
  {
   "cell_type": "code",
   "execution_count": 4,
   "metadata": {
    "ExecuteTime": {
     "end_time": "2020-10-30T10:45:42.347574Z",
     "start_time": "2020-10-30T10:45:42.118915Z"
    }
   },
   "outputs": [],
   "source": [
    "%reload_ext autoreload\n",
    "%autoreload 2\n",
    "%matplotlib inline"
   ]
  },
  {
   "cell_type": "markdown",
   "metadata": {},
   "source": [
    "## Extraction des données\n"
   ]
  },
  {
   "cell_type": "code",
   "execution_count": 15,
   "metadata": {},
   "outputs": [
    {
     "name": "stdout",
     "output_type": "stream",
     "text": [
      "--2020-10-31 15:29:22--  http://data.vision.ee.ethz.ch/cvl/food-101.tar.gz\n",
      "Résolution de data.vision.ee.ethz.ch (data.vision.ee.ethz.ch)… 129.132.52.162\n",
      "Connexion à data.vision.ee.ethz.ch (data.vision.ee.ethz.ch)|129.132.52.162|:80… connecté.\n",
      "requête HTTP transmise, en attente de la réponse… 302 Found\n",
      "Emplacement : https://data.vision.ee.ethz.ch/cvl/food-101.tar.gz [suivant]\n",
      "--2020-10-31 15:29:22--  https://data.vision.ee.ethz.ch/cvl/food-101.tar.gz\n",
      "Connexion à data.vision.ee.ethz.ch (data.vision.ee.ethz.ch)|129.132.52.162|:443… connecté.\n",
      "requête HTTP transmise, en attente de la réponse… 200 OK\n",
      "Taille : 4996278331 (4,7G) [application/x-gzip]\n",
      "Enregistre : «../data/food-101.tar.gz»\n",
      "\n",
      "food-101.tar.gz     100%[===================>]   4,65G  48,9MB/s    ds 94s     \n",
      "\n",
      "2020-10-31 15:30:56 (50,7 MB/s) - «../data/food-101.tar.gz» enregistré [4996278331/4996278331]\n",
      "\n"
     ]
    }
   ],
   "source": [
    "#!mkdir -p ../data\n",
    "#!wget http://data.vision.ee.ethz.ch/cvl/food-101.tar.gz -P ../data\n",
    "#!tar xzf ../data/food-101.tar.gz -C ../data"
   ]
  },
  {
   "cell_type": "markdown",
   "metadata": {},
   "source": [
    "## Chargement des données"
   ]
  },
  {
   "cell_type": "markdown",
   "metadata": {},
   "source": [
    "Chacune des 101 catégories ou classes sont stockés dans un dossier"
   ]
  },
  {
   "cell_type": "code",
   "execution_count": 4,
   "metadata": {},
   "outputs": [
    {
     "name": "stdout",
     "output_type": "stream",
     "text": [
      "food-101  food-101.tar.gz\r\n"
     ]
    }
   ],
   "source": [
    "!ls data"
   ]
  },
  {
   "cell_type": "code",
   "execution_count": 5,
   "metadata": {},
   "outputs": [
    {
     "name": "stdout",
     "output_type": "stream",
     "text": [
      "classes.txt  images  license_agreement.txt  meta  README.txt\r\n"
     ]
    }
   ],
   "source": [
    "!ls data/food-101/"
   ]
  },
  {
   "cell_type": "markdown",
   "metadata": {},
   "source": [
    "- Les 5 premières catégories"
   ]
  },
  {
   "cell_type": "code",
   "execution_count": 4,
   "metadata": {},
   "outputs": [
    {
     "name": "stdout",
     "output_type": "stream",
     "text": [
      "apple_pie\r\n",
      "baby_back_ribs\r\n",
      "baklava\r\n",
      "beef_carpaccio\r\n",
      "beef_tartare\r\n"
     ]
    }
   ],
   "source": [
    "!ls data/food-101/images | head -n 5"
   ]
  },
  {
   "cell_type": "markdown",
   "metadata": {},
   "source": [
    "Chemin vers les images "
   ]
  },
  {
   "cell_type": "code",
   "execution_count": 6,
   "metadata": {
    "ExecuteTime": {
     "end_time": "2020-10-28T19:22:07.583046Z",
     "start_time": "2020-10-28T19:22:07.548615Z"
    },
    "papermill": {
     "duration": 0.038147,
     "end_time": "2018-11-12T11:46:24.364451",
     "exception": false,
     "start_time": "2018-11-12T11:46:24.326304",
     "status": "completed"
    },
    "tags": []
   },
   "outputs": [],
   "source": [
    "path = Path('data/food-101/images')"
   ]
  },
  {
   "cell_type": "code",
   "execution_count": 7,
   "metadata": {},
   "outputs": [],
   "source": [
    "from fastai.vision.all import *"
   ]
  },
  {
   "cell_type": "code",
   "execution_count": 8,
   "metadata": {
    "ExecuteTime": {
     "end_time": "2020-10-28T19:22:18.872151Z",
     "start_time": "2020-10-28T19:22:18.806463Z"
    },
    "papermill": {
     "duration": 6.877564,
     "end_time": "2018-11-12T11:46:31.274563",
     "exception": false,
     "start_time": "2018-11-12T11:46:24.396999",
     "status": "completed"
    },
    "tags": []
   },
   "outputs": [],
   "source": [
    "#data = ImageDataBunch.from_folder(path, valid_pct=0.2,\n",
    "#        ds_tfms=get_transforms(), size=224, num_workers=8, bs=64).normalize(imagenet_stats)\n",
    "\n",
    "data = ImageDataLoaders.from_folder(path, valid_pct=0.2, \n",
    "    item_tfms=RandomResizedCrop(224),num_workers=8, bs=64, batch_tfms=Normalize.from_stats(*imagenet_stats))"
   ]
  },
  {
   "cell_type": "code",
   "execution_count": 10,
   "metadata": {
    "ExecuteTime": {
     "end_time": "2020-10-28T19:22:20.448835Z",
     "start_time": "2020-10-28T19:22:20.390556Z"
    },
    "papermill": {
     "duration": 0.042001,
     "end_time": "2018-11-12T11:46:31.546354",
     "exception": false,
     "start_time": "2018-11-12T11:46:31.504353",
     "status": "completed"
    },
    "tags": []
   },
   "outputs": [],
   "source": [
    "#data.classes, data.c, len(data.train_ds), len(data.valid_ds)"
   ]
  },
  {
   "cell_type": "markdown",
   "metadata": {},
   "source": [
    "# Entrainement du modèle"
   ]
  },
  {
   "cell_type": "markdown",
   "metadata": {},
   "source": [
    "## Initialisation du Learning Rate"
   ]
  },
  {
   "cell_type": "code",
   "execution_count": 9,
   "metadata": {},
   "outputs": [],
   "source": [
    "import torchvision.models as models"
   ]
  },
  {
   "cell_type": "code",
   "execution_count": 12,
   "metadata": {
    "ExecuteTime": {
     "end_time": "2020-10-28T19:22:26.803654Z",
     "start_time": "2020-10-28T19:22:26.744243Z"
    },
    "papermill": {
     "duration": 3.934039,
     "end_time": "2018-11-12T11:46:35.513481",
     "exception": false,
     "start_time": "2018-11-12T11:46:31.579442",
     "status": "completed"
    },
    "tags": []
   },
   "outputs": [],
   "source": [
    "#learn = create_cnn(data, models.resnet34, metrics=error_rate,pretrained=True)\n",
    "learn = cnn_learner(data, models.resnet34, metrics=error_rate, pretrained=True)"
   ]
  },
  {
   "cell_type": "code",
   "execution_count": 10,
   "metadata": {
    "scrolled": false
   },
   "outputs": [
    {
     "data": {
      "text/html": [],
      "text/plain": [
       "<IPython.core.display.HTML object>"
      ]
     },
     "metadata": {},
     "output_type": "display_data"
    },
    {
     "data": {
      "text/plain": [
       "SuggestedLRs(lr_min=0.005754399299621582, lr_steep=0.013182567432522774)"
      ]
     },
     "execution_count": 10,
     "metadata": {},
     "output_type": "execute_result"
    },
    {
     "data": {
      "image/png": "[encoded data removed]",
      "text/plain": [
       "<Figure size 432x288 with 1 Axes>"
      ]
     },
     "metadata": {
      "needs_background": "light"
     },
     "output_type": "display_data"
    }
   ],
   "source": [
    "learn.lr_find()\n",
    "#learn.recorder.plot(suggestion=True)"
   ]
  },
  {
   "cell_type": "code",
   "execution_count": 11,
   "metadata": {
    "papermill": {
     "duration": 0.03877,
     "end_time": "2018-11-12T11:46:35.587287",
     "exception": false,
     "start_time": "2018-11-12T11:46:35.548517",
     "status": "completed"
    },
    "tags": []
   },
   "outputs": [],
   "source": [
    "#learn = create_cnn(data, models.resnet34, metrics=error_rate, model_dir=\"../../prod\")\n",
    "#learn.model = torch.nn.DataParallel(learn.model)\n"
   ]
  },
  {
   "cell_type": "code",
   "execution_count": 15,
   "metadata": {},
   "outputs": [],
   "source": [
    "lr = 0.015"
   ]
  },
  {
   "cell_type": "code",
   "execution_count": 16,
   "metadata": {},
   "outputs": [
    {
     "data": {
      "text/html": [
       "<table border=\"1\" class=\"dataframe\">\n",
       "  <thead>\n",
       "    <tr style=\"text-align: left;\">\n",
       "      <th>epoch</th>\n",
       "      <th>train_loss</th>\n",
       "      <th>valid_loss</th>\n",
       "      <th>error_rate</th>\n",
       "      <th>time</th>\n",
       "    </tr>\n",
       "  </thead>\n",
       "  <tbody>\n",
       "    <tr>\n",
       "      <td>0</td>\n",
       "      <td>2.559440</td>\n",
       "      <td>2.140593</td>\n",
       "      <td>0.549406</td>\n",
       "      <td>03:05</td>\n",
       "    </tr>\n",
       "    <tr>\n",
       "      <td>1</td>\n",
       "      <td>2.552496</td>\n",
       "      <td>2.083103</td>\n",
       "      <td>0.535347</td>\n",
       "      <td>03:06</td>\n",
       "    </tr>\n",
       "    <tr>\n",
       "      <td>2</td>\n",
       "      <td>2.316155</td>\n",
       "      <td>1.790478</td>\n",
       "      <td>0.465446</td>\n",
       "      <td>03:07</td>\n",
       "    </tr>\n",
       "    <tr>\n",
       "      <td>3</td>\n",
       "      <td>2.175485</td>\n",
       "      <td>1.615735</td>\n",
       "      <td>0.420099</td>\n",
       "      <td>03:15</td>\n",
       "    </tr>\n",
       "    <tr>\n",
       "      <td>4</td>\n",
       "      <td>1.994075</td>\n",
       "      <td>1.392277</td>\n",
       "      <td>0.367475</td>\n",
       "      <td>03:14</td>\n",
       "    </tr>\n",
       "    <tr>\n",
       "      <td>5</td>\n",
       "      <td>1.774603</td>\n",
       "      <td>1.270176</td>\n",
       "      <td>0.335842</td>\n",
       "      <td>03:15</td>\n",
       "    </tr>\n",
       "    <tr>\n",
       "      <td>6</td>\n",
       "      <td>1.670123</td>\n",
       "      <td>1.192361</td>\n",
       "      <td>0.317871</td>\n",
       "      <td>03:13</td>\n",
       "    </tr>\n",
       "    <tr>\n",
       "      <td>7</td>\n",
       "      <td>1.630351</td>\n",
       "      <td>1.170672</td>\n",
       "      <td>0.312574</td>\n",
       "      <td>03:13</td>\n",
       "    </tr>\n",
       "  </tbody>\n",
       "</table>"
      ],
      "text/plain": [
       "<IPython.core.display.HTML object>"
      ]
     },
     "metadata": {},
     "output_type": "display_data"
    }
   ],
   "source": [
    "learn.fit_one_cycle(8 , lr)"
   ]
  },
  {
   "cell_type": "markdown",
   "metadata": {},
   "source": [
    "### Sauvegarde du modèle"
   ]
  },
  {
   "cell_type": "code",
   "execution_count": 13,
   "metadata": {
    "papermill": {
     "duration": 0.038638,
     "end_time": "2018-11-12T12:14:37.759103",
     "exception": false,
     "start_time": "2018-11-12T12:14:37.720465",
     "status": "completed"
    },
    "tags": []
   },
   "outputs": [],
   "source": [
    "model_name=\"resnet34-v2\""
   ]
  },
  {
   "cell_type": "code",
   "execution_count": 18,
   "metadata": {
    "papermill": {
     "duration": 0.212635,
     "end_time": "2018-11-12T12:14:38.002515",
     "exception": false,
     "start_time": "2018-11-12T12:14:37.789880",
     "status": "completed"
    },
    "tags": []
   },
   "outputs": [
    {
     "data": {
      "text/plain": [
       "Path('data/food-101/images/models/resnet34-v2-stage-1.pth')"
      ]
     },
     "execution_count": 18,
     "metadata": {},
     "output_type": "execute_result"
    }
   ],
   "source": [
    "learn.save(f'{model_name}-stage-1')"
   ]
  },
  {
   "cell_type": "markdown",
   "metadata": {},
   "source": []
  },
  {
   "cell_type": "markdown",
   "metadata": {},
   "source": [
    "## Entrainement des dernières couches\n",
    "Commme nous utilisons une architecture Resnet34 pré-entrainé, nous allons faire du \"Transfer Learning\", et uniquement ré-entrainer les dernière couches afin de les spécialiser. "
   ]
  },
  {
   "cell_type": "code",
   "execution_count": 19,
   "metadata": {
    "papermill": {
     "duration": 0.782181,
     "end_time": "2018-11-12T12:14:38.817166",
     "exception": false,
     "start_time": "2018-11-12T12:14:38.034985",
     "status": "completed"
    },
    "tags": []
   },
   "outputs": [
    {
     "data": {
      "text/plain": [
       "<fastai.learner.Learner at 0x7f6aac1750a0>"
      ]
     },
     "execution_count": 19,
     "metadata": {},
     "output_type": "execute_result"
    }
   ],
   "source": [
    "learn.load(f'{model_name}-stage-1')"
   ]
  },
  {
   "cell_type": "code",
   "execution_count": 20,
   "metadata": {
    "papermill": {
     "duration": 0.037354,
     "end_time": "2018-11-12T12:14:38.889154",
     "exception": false,
     "start_time": "2018-11-12T12:14:38.851800",
     "status": "completed"
    },
    "tags": []
   },
   "outputs": [],
   "source": [
    "learn.unfreeze()\n"
   ]
  },
  {
   "cell_type": "code",
   "execution_count": 21,
   "metadata": {
    "papermill": {
     "duration": 35.184087,
     "end_time": "2018-11-12T12:15:14.104585",
     "exception": false,
     "start_time": "2018-11-12T12:14:38.920498",
     "status": "completed"
    },
    "tags": []
   },
   "outputs": [
    {
     "data": {
      "text/html": [],
      "text/plain": [
       "<IPython.core.display.HTML object>"
      ]
     },
     "metadata": {},
     "output_type": "display_data"
    },
    {
     "data": {
      "text/plain": [
       "SuggestedLRs(lr_min=7.244359778724174e-09, lr_steep=1.047128517228657e-08)"
      ]
     },
     "execution_count": 21,
     "metadata": {},
     "output_type": "execute_result"
    },
    {
     "data": {
      "image/png": "[encoded data removed]",
      "text/plain": [
       "<Figure size 432x288 with 1 Axes>"
      ]
     },
     "metadata": {
      "needs_background": "light"
     },
     "output_type": "display_data"
    }
   ],
   "source": [
    "learn.lr_find(start_lr=1e-09, end_lr=1e-3)"
   ]
  },
  {
   "cell_type": "code",
   "execution_count": 28,
   "metadata": {
    "collapsed": true,
    "papermill": {
     "duration": 0.338368,
     "end_time": "2018-11-12T12:15:14.474928",
     "exception": false,
     "start_time": "2018-11-12T12:15:14.136560",
     "status": "completed"
    },
    "tags": []
   },
   "outputs": [
    {
     "ename": "AttributeError",
     "evalue": "'Learner' object has no attribute 'plot'",
     "output_type": "error",
     "traceback": [
      "\u001b[0;31m---------------------------------------------------------------------------\u001b[0m",
      "\u001b[0;31mAttributeError\u001b[0m                            Traceback (most recent call last)",
      "\u001b[0;32m<ipython-input-28-d314aedebe9d>\u001b[0m in \u001b[0;36m<module>\u001b[0;34m\u001b[0m\n\u001b[0;32m----> 1\u001b[0;31m \u001b[0mlearn\u001b[0m\u001b[0;34m.\u001b[0m\u001b[0mrecorder\u001b[0m\u001b[0;34m.\u001b[0m\u001b[0mplot\u001b[0m\u001b[0;34m(\u001b[0m\u001b[0mskip_end\u001b[0m\u001b[0;34m=\u001b[0m\u001b[0;36m10\u001b[0m\u001b[0;34m)\u001b[0m\u001b[0;34m\u001b[0m\u001b[0;34m\u001b[0m\u001b[0m\n\u001b[0m",
      "\u001b[0;32m~/Work/Projet/formation_projFinal/mongueuleton/env_mgt/lib/python3.8/site-packages/fastcore/foundation.py\u001b[0m in \u001b[0;36m__getattr__\u001b[0;34m(self, k)\u001b[0m\n\u001b[1;32m    133\u001b[0m         \u001b[0;32mif\u001b[0m \u001b[0mself\u001b[0m\u001b[0;34m.\u001b[0m\u001b[0m_component_attr_filter\u001b[0m\u001b[0;34m(\u001b[0m\u001b[0mk\u001b[0m\u001b[0;34m)\u001b[0m\u001b[0;34m:\u001b[0m\u001b[0;34m\u001b[0m\u001b[0;34m\u001b[0m\u001b[0m\n\u001b[1;32m    134\u001b[0m             \u001b[0mattr\u001b[0m \u001b[0;34m=\u001b[0m \u001b[0mgetattr\u001b[0m\u001b[0;34m(\u001b[0m\u001b[0mself\u001b[0m\u001b[0;34m,\u001b[0m\u001b[0mself\u001b[0m\u001b[0;34m.\u001b[0m\u001b[0m_default\u001b[0m\u001b[0;34m,\u001b[0m\u001b[0;32mNone\u001b[0m\u001b[0;34m)\u001b[0m\u001b[0;34m\u001b[0m\u001b[0;34m\u001b[0m\u001b[0m\n\u001b[0;32m--> 135\u001b[0;31m             \u001b[0;32mif\u001b[0m \u001b[0mattr\u001b[0m \u001b[0;32mis\u001b[0m \u001b[0;32mnot\u001b[0m \u001b[0;32mNone\u001b[0m\u001b[0;34m:\u001b[0m \u001b[0;32mreturn\u001b[0m \u001b[0mgetattr\u001b[0m\u001b[0;34m(\u001b[0m\u001b[0mattr\u001b[0m\u001b[0;34m,\u001b[0m\u001b[0mk\u001b[0m\u001b[0;34m)\u001b[0m\u001b[0;34m\u001b[0m\u001b[0;34m\u001b[0m\u001b[0m\n\u001b[0m\u001b[1;32m    136\u001b[0m         \u001b[0;32mraise\u001b[0m \u001b[0mAttributeError\u001b[0m\u001b[0;34m(\u001b[0m\u001b[0mk\u001b[0m\u001b[0;34m)\u001b[0m\u001b[0;34m\u001b[0m\u001b[0;34m\u001b[0m\u001b[0m\n\u001b[1;32m    137\u001b[0m     \u001b[0;32mdef\u001b[0m \u001b[0m__dir__\u001b[0m\u001b[0;34m(\u001b[0m\u001b[0mself\u001b[0m\u001b[0;34m)\u001b[0m\u001b[0;34m:\u001b[0m \u001b[0;32mreturn\u001b[0m \u001b[0mcustom_dir\u001b[0m\u001b[0;34m(\u001b[0m\u001b[0mself\u001b[0m\u001b[0;34m,\u001b[0m\u001b[0mself\u001b[0m\u001b[0;34m.\u001b[0m\u001b[0m_dir\u001b[0m\u001b[0;34m(\u001b[0m\u001b[0;34m)\u001b[0m\u001b[0;34m)\u001b[0m\u001b[0;34m\u001b[0m\u001b[0;34m\u001b[0m\u001b[0m\n",
      "\u001b[0;31mAttributeError\u001b[0m: 'Learner' object has no attribute 'plot'"
     ]
    }
   ],
   "source": [
    "#learn.recorder.plot(skip_end=10)\n"
   ]
  },
  {
   "cell_type": "code",
   "execution_count": 22,
   "metadata": {
    "papermill": {
     "duration": 2293.482233,
     "end_time": "2018-11-12T12:53:27.989828",
     "exception": false,
     "start_time": "2018-11-12T12:15:14.507595",
     "status": "completed"
    },
    "tags": []
   },
   "outputs": [
    {
     "data": {
      "text/html": [
       "<table border=\"1\" class=\"dataframe\">\n",
       "  <thead>\n",
       "    <tr style=\"text-align: left;\">\n",
       "      <th>epoch</th>\n",
       "      <th>train_loss</th>\n",
       "      <th>valid_loss</th>\n",
       "      <th>error_rate</th>\n",
       "      <th>time</th>\n",
       "    </tr>\n",
       "  </thead>\n",
       "  <tbody>\n",
       "    <tr>\n",
       "      <td>0</td>\n",
       "      <td>2.198256</td>\n",
       "      <td>2.530545</td>\n",
       "      <td>0.604208</td>\n",
       "      <td>04:25</td>\n",
       "    </tr>\n",
       "    <tr>\n",
       "      <td>1</td>\n",
       "      <td>2.218120</td>\n",
       "      <td>2.220551</td>\n",
       "      <td>0.557178</td>\n",
       "      <td>04:27</td>\n",
       "    </tr>\n",
       "    <tr>\n",
       "      <td>2</td>\n",
       "      <td>1.917630</td>\n",
       "      <td>1.838132</td>\n",
       "      <td>0.471881</td>\n",
       "      <td>04:27</td>\n",
       "    </tr>\n",
       "    <tr>\n",
       "      <td>3</td>\n",
       "      <td>1.737006</td>\n",
       "      <td>1.355446</td>\n",
       "      <td>0.352376</td>\n",
       "      <td>04:28</td>\n",
       "    </tr>\n",
       "    <tr>\n",
       "      <td>4</td>\n",
       "      <td>1.595484</td>\n",
       "      <td>1.162130</td>\n",
       "      <td>0.311881</td>\n",
       "      <td>04:28</td>\n",
       "    </tr>\n",
       "    <tr>\n",
       "      <td>5</td>\n",
       "      <td>1.370663</td>\n",
       "      <td>1.004799</td>\n",
       "      <td>0.273218</td>\n",
       "      <td>04:27</td>\n",
       "    </tr>\n",
       "    <tr>\n",
       "      <td>6</td>\n",
       "      <td>1.235788</td>\n",
       "      <td>0.928767</td>\n",
       "      <td>0.250594</td>\n",
       "      <td>04:28</td>\n",
       "    </tr>\n",
       "    <tr>\n",
       "      <td>7</td>\n",
       "      <td>1.149756</td>\n",
       "      <td>0.910969</td>\n",
       "      <td>0.246980</td>\n",
       "      <td>04:28</td>\n",
       "    </tr>\n",
       "  </tbody>\n",
       "</table>"
      ],
      "text/plain": [
       "<IPython.core.display.HTML object>"
      ]
     },
     "metadata": {},
     "output_type": "display_data"
    }
   ],
   "source": [
    "learn.fit_one_cycle(8, max_lr=slice(1e-8,1e-7))"
   ]
  },
  {
   "cell_type": "code",
   "execution_count": 23,
   "metadata": {
    "papermill": {
     "duration": 0.258795,
     "end_time": "2018-11-12T12:53:28.282348",
     "exception": false,
     "start_time": "2018-11-12T12:53:28.023553",
     "status": "completed"
    },
    "scrolled": true,
    "tags": []
   },
   "outputs": [
    {
     "data": {
      "text/plain": [
       "Path('data/food-101/images/models/resnet34-v2-stage-2.pth')"
      ]
     },
     "execution_count": 23,
     "metadata": {},
     "output_type": "execute_result"
    }
   ],
   "source": [
    "learn.save(f'{model_name}-stage-2')"
   ]
  },
  {
   "cell_type": "code",
   "execution_count": 24,
   "metadata": {},
   "outputs": [],
   "source": [
    "learn.load(f'{model_name}-stage-2');"
   ]
  },
  {
   "cell_type": "markdown",
   "metadata": {
    "papermill": {
     "duration": 0.032277,
     "end_time": "2018-11-12T12:53:29.042260",
     "exception": false,
     "start_time": "2018-11-12T12:53:29.009983",
     "status": "completed"
    },
    "tags": []
   },
   "source": [
    "## Interpretation"
   ]
  },
  {
   "cell_type": "code",
   "execution_count": 14,
   "metadata": {
    "papermill": {
     "duration": 0.16397,
     "end_time": "2018-11-12T12:53:29.239062",
     "exception": false,
     "start_time": "2018-11-12T12:53:29.075092",
     "status": "completed"
    },
    "tags": []
   },
   "outputs": [],
   "source": [
    "learn.load(f'{model_name}-stage-2');\n"
   ]
  },
  {
   "cell_type": "code",
   "execution_count": null,
   "metadata": {
    "papermill": {
     "duration": 50.445601,
     "end_time": "2018-11-12T12:54:19.718393",
     "exception": false,
     "start_time": "2018-11-12T12:53:29.272792",
     "status": "completed"
    },
    "tags": []
   },
   "outputs": [
    {
     "data": {
      "text/html": [],
      "text/plain": [
       "<IPython.core.display.HTML object>"
      ]
     },
     "metadata": {},
     "output_type": "display_data"
    }
   ],
   "source": [
    "interp = ClassificationInterpretation.from_learner(learn)"
   ]
  },
  {
   "cell_type": "code",
   "execution_count": 1,
   "metadata": {
    "papermill": {
     "duration": 0.920014,
     "end_time": "2018-11-12T12:54:20.689209",
     "exception": false,
     "start_time": "2018-11-12T12:54:19.769195",
     "status": "completed"
    },
    "tags": []
   },
   "outputs": [
    {
     "ename": "NameError",
     "evalue": "name 'interp' is not defined",
     "output_type": "error",
     "traceback": [
      "\u001b[0;31m---------------------------------------------------------------------------\u001b[0m",
      "\u001b[0;31mNameError\u001b[0m                                 Traceback (most recent call last)",
      "\u001b[0;32m<ipython-input-1-34fc804e24e7>\u001b[0m in \u001b[0;36m<module>\u001b[0;34m\u001b[0m\n\u001b[0;32m----> 1\u001b[0;31m \u001b[0minterp\u001b[0m\u001b[0;34m.\u001b[0m\u001b[0mplot_top_losses\u001b[0m\u001b[0;34m(\u001b[0m\u001b[0;36m9\u001b[0m\u001b[0;34m,\u001b[0m \u001b[0mfigsize\u001b[0m\u001b[0;34m=\u001b[0m\u001b[0;34m(\u001b[0m\u001b[0;36m15\u001b[0m\u001b[0;34m,\u001b[0m\u001b[0;36m11\u001b[0m\u001b[0;34m)\u001b[0m\u001b[0;34m)\u001b[0m\u001b[0;34m\u001b[0m\u001b[0;34m\u001b[0m\u001b[0m\n\u001b[0m",
      "\u001b[0;31mNameError\u001b[0m: name 'interp' is not defined"
     ]
    }
   ],
   "source": [
    "interp.plot_top_losses(9, figsize=(15,11))\n"
   ]
  },
  {
   "cell_type": "code",
   "execution_count": 24,
   "metadata": {},
   "outputs": [
    {
     "ename": "NameError",
     "evalue": "name 'interp' is not defined",
     "output_type": "error",
     "traceback": [
      "\u001b[0;31m---------------------------------------------------------------------------\u001b[0m",
      "\u001b[0;31mNameError\u001b[0m                                 Traceback (most recent call last)",
      "\u001b[0;32m<ipython-input-24-aeee0a473b34>\u001b[0m in \u001b[0;36m<module>\u001b[0;34m\u001b[0m\n\u001b[0;32m----> 1\u001b[0;31m \u001b[0minterp\u001b[0m\u001b[0;34m.\u001b[0m\u001b[0mplot_confusion_matrix\u001b[0m\u001b[0;34m(\u001b[0m\u001b[0mfigsize\u001b[0m\u001b[0;34m=\u001b[0m\u001b[0;34m(\u001b[0m\u001b[0;36m50\u001b[0m\u001b[0;34m,\u001b[0m\u001b[0;36m50\u001b[0m\u001b[0;34m)\u001b[0m\u001b[0;34m,\u001b[0m \u001b[0mdpi\u001b[0m\u001b[0;34m=\u001b[0m\u001b[0;36m30\u001b[0m\u001b[0;34m)\u001b[0m\u001b[0;34m\u001b[0m\u001b[0;34m\u001b[0m\u001b[0m\n\u001b[0m",
      "\u001b[0;31mNameError\u001b[0m: name 'interp' is not defined"
     ]
    }
   ],
   "source": [
    "interp.plot_confusion_matrix(figsize=(50,50), dpi=30)\n"
   ]
  },
  {
   "cell_type": "code",
   "execution_count": 27,
   "metadata": {
    "collapsed": true,
    "papermill": {
     "duration": 1.323846,
     "end_time": "2018-11-12T12:54:48.466137",
     "exception": false,
     "start_time": "2018-11-12T12:54:47.142291",
     "status": "completed"
    },
    "tags": []
   },
   "outputs": [
    {
     "data": {
      "text/plain": [
       "[('filet_mignon', 'steak', 26),\n",
       " ('steak', 'filet_mignon', 26),\n",
       " ('tuna_tartare', 'beef_tartare', 23),\n",
       " ('chocolate_cake', 'chocolate_mousse', 21),\n",
       " ('pork_chop', 'filet_mignon', 20),\n",
       " ('pork_chop', 'grilled_salmon', 20),\n",
       " ('chocolate_mousse', 'chocolate_cake', 19),\n",
       " ('prime_rib', 'steak', 18),\n",
       " ('ravioli', 'lasagna', 18),\n",
       " ('breakfast_burrito', 'huevos_rancheros', 17),\n",
       " ('beef_tartare', 'tuna_tartare', 16),\n",
       " ('lobster_bisque', 'clam_chowder', 16),\n",
       " ('steak', 'pork_chop', 16),\n",
       " ('tiramisu', 'chocolate_mousse', 16),\n",
       " ('chicken_quesadilla', 'breakfast_burrito', 15),\n",
       " ('panna_cotta', 'chocolate_mousse', 15),\n",
       " ('ramen', 'pho', 15),\n",
       " ('ice_cream', 'frozen_yogurt', 14),\n",
       " ('pulled_pork_sandwich', 'hamburger', 14),\n",
       " ('sashimi', 'sushi', 14),\n",
       " ('tacos', 'nachos', 14),\n",
       " ('apple_pie', 'bread_pudding', 13),\n",
       " ('crab_cakes', 'falafel', 13),\n",
       " ('pork_chop', 'steak', 13),\n",
       " ('breakfast_burrito', 'omelette', 12),\n",
       " ('cheesecake', 'strawberry_shortcake', 12),\n",
       " ('greek_salad', 'beet_salad', 12),\n",
       " ('huevos_rancheros', 'nachos', 12),\n",
       " ('scallops', 'crab_cakes', 12),\n",
       " ('spring_rolls', 'samosa', 12),\n",
       " ('steak', 'baby_back_ribs', 12),\n",
       " ('apple_pie', 'waffles', 11),\n",
       " ('beef_carpaccio', 'beet_salad', 11),\n",
       " ('bread_pudding', 'apple_pie', 11),\n",
       " ('cheesecake', 'panna_cotta', 11),\n",
       " ('cup_cakes', 'donuts', 11),\n",
       " ('dumplings', 'gyoza', 11),\n",
       " ('falafel', 'tacos', 11),\n",
       " ('filet_mignon', 'prime_rib', 11),\n",
       " ('fried_calamari', 'onion_rings', 11),\n",
       " ('gnocchi', 'ravioli', 11),\n",
       " ('ice_cream', 'chocolate_mousse', 11),\n",
       " ('pho', 'ramen', 11),\n",
       " ('sushi', 'sashimi', 11),\n",
       " ('beet_salad', 'greek_salad', 10),\n",
       " ('breakfast_burrito', 'chicken_quesadilla', 10),\n",
       " ('caesar_salad', 'greek_salad', 10),\n",
       " ('cup_cakes', 'red_velvet_cake', 10),\n",
       " ('filet_mignon', 'pork_chop', 10),\n",
       " ('garlic_bread', 'grilled_cheese_sandwich', 10),\n",
       " ('hummus', 'chicken_quesadilla', 10),\n",
       " ('risotto', 'fried_rice', 10),\n",
       " ('shrimp_and_grits', 'gnocchi', 10),\n",
       " ('tiramisu', 'chocolate_cake', 10),\n",
       " ('caprese_salad', 'greek_salad', 9),\n",
       " ('ceviche', 'greek_salad', 9),\n",
       " ('chocolate_mousse', 'panna_cotta', 9),\n",
       " ('club_sandwich', 'grilled_cheese_sandwich', 9),\n",
       " ('crab_cakes', 'scallops', 9),\n",
       " ('foie_gras', 'cheese_plate', 9),\n",
       " ('gnocchi', 'shrimp_and_grits', 9),\n",
       " ('grilled_cheese_sandwich', 'garlic_bread', 9),\n",
       " ('grilled_salmon', 'crab_cakes', 9),\n",
       " ('grilled_salmon', 'pork_chop', 9),\n",
       " ('nachos', 'huevos_rancheros', 9),\n",
       " ('nachos', 'tacos', 9),\n",
       " ('risotto', 'shrimp_and_grits', 9),\n",
       " ('steak', 'prime_rib', 9),\n",
       " ('baby_back_ribs', 'pork_chop', 8),\n",
       " ('beef_carpaccio', 'beef_tartare', 8),\n",
       " ('ceviche', 'guacamole', 8),\n",
       " ('ceviche', 'tuna_tartare', 8),\n",
       " ('chicken_curry', 'lobster_bisque', 8),\n",
       " ('fried_rice', 'risotto', 8),\n",
       " ('greek_salad', 'caprese_salad', 8),\n",
       " ('gyoza', 'samosa', 8),\n",
       " ('hamburger', 'pulled_pork_sandwich', 8),\n",
       " ('omelette', 'grilled_cheese_sandwich', 8),\n",
       " ('pad_thai', 'spaghetti_bolognese', 8),\n",
       " ('panna_cotta', 'strawberry_shortcake', 8),\n",
       " ('prime_rib', 'filet_mignon', 8),\n",
       " ('ravioli', 'shrimp_and_grits', 8),\n",
       " ('red_velvet_cake', 'cup_cakes', 8),\n",
       " ('scallops', 'gnocchi', 8),\n",
       " ('spaghetti_bolognese', 'spaghetti_carbonara', 8),\n",
       " ('apple_pie', 'pancakes', 7),\n",
       " ('beef_tartare', 'bruschetta', 7),\n",
       " ('caprese_salad', 'panna_cotta', 7),\n",
       " ('chocolate_mousse', 'strawberry_shortcake', 7),\n",
       " ('croque_madame', 'eggs_benedict', 7),\n",
       " ('french_toast', 'grilled_cheese_sandwich', 7),\n",
       " ('gnocchi', 'macaroni_and_cheese', 7),\n",
       " ('greek_salad', 'caesar_salad', 7),\n",
       " ('huevos_rancheros', 'lasagna', 7),\n",
       " ('hummus', 'guacamole', 7),\n",
       " ('ice_cream', 'cup_cakes', 7),\n",
       " ('peking_duck', 'baby_back_ribs', 7),\n",
       " ('ravioli', 'gnocchi', 7),\n",
       " ('samosa', 'spring_rolls', 7),\n",
       " ('scallops', 'ravioli', 7),\n",
       " ('shrimp_and_grits', 'huevos_rancheros', 7),\n",
       " ('shrimp_and_grits', 'ravioli', 7),\n",
       " ('tuna_tartare', 'ceviche', 7),\n",
       " ('baby_back_ribs', 'peking_duck', 6),\n",
       " ('baby_back_ribs', 'steak', 6),\n",
       " ('beignets', 'donuts', 6),\n",
       " ('breakfast_burrito', 'bruschetta', 6),\n",
       " ('caesar_salad', 'beet_salad', 6),\n",
       " ('caesar_salad', 'guacamole', 6),\n",
       " ('carrot_cake', 'chocolate_cake', 6),\n",
       " ('cheese_plate', 'foie_gras', 6),\n",
       " ('chicken_curry', 'huevos_rancheros', 6),\n",
       " ('chocolate_cake', 'panna_cotta', 6),\n",
       " ('chocolate_cake', 'tiramisu', 6),\n",
       " ('chocolate_mousse', 'cup_cakes', 6),\n",
       " ('clam_chowder', 'escargots', 6),\n",
       " ('crab_cakes', 'foie_gras', 6),\n",
       " ('creme_brulee', 'panna_cotta', 6),\n",
       " ('croque_madame', 'grilled_cheese_sandwich', 6),\n",
       " ('donuts', 'beignets', 6),\n",
       " ('donuts', 'macarons', 6),\n",
       " ('eggs_benedict', 'croque_madame', 6),\n",
       " ('filet_mignon', 'crab_cakes', 6),\n",
       " ('filet_mignon', 'foie_gras', 6),\n",
       " ('french_fries', 'poutine', 6),\n",
       " ('french_onion_soup', 'lobster_bisque', 6),\n",
       " ('french_toast', 'beignets', 6),\n",
       " ('french_toast', 'omelette', 6),\n",
       " ('garlic_bread', 'chicken_quesadilla', 6),\n",
       " ('gnocchi', 'risotto', 6),\n",
       " ('grilled_cheese_sandwich', 'club_sandwich', 6),\n",
       " ('grilled_salmon', 'foie_gras', 6),\n",
       " ('guacamole', 'nachos', 6),\n",
       " ('gyoza', 'dumplings', 6),\n",
       " ('lasagna', 'pizza', 6),\n",
       " ('lobster_roll_sandwich', 'pulled_pork_sandwich', 6),\n",
       " ('macaroni_and_cheese', 'risotto', 6),\n",
       " ('mussels', 'oysters', 6),\n",
       " ('paella', 'mussels', 6),\n",
       " ('panna_cotta', 'cheesecake', 6),\n",
       " ('pizza', 'lasagna', 6),\n",
       " ('pork_chop', 'crab_cakes', 6),\n",
       " ('pork_chop', 'scallops', 6),\n",
       " ('poutine', 'french_fries', 6),\n",
       " ('prime_rib', 'baby_back_ribs', 6),\n",
       " ('prime_rib', 'pork_chop', 6),\n",
       " ('ramen', 'hot_and_sour_soup', 6),\n",
       " ('ravioli', 'chicken_curry', 6),\n",
       " ('ravioli', 'risotto', 6),\n",
       " ('scallops', 'shrimp_and_grits', 6),\n",
       " ('strawberry_shortcake', 'panna_cotta', 6),\n",
       " ('tacos', 'huevos_rancheros', 6),\n",
       " ('tuna_tartare', 'beef_carpaccio', 6),\n",
       " ('tuna_tartare', 'beet_salad', 6),\n",
       " ('tuna_tartare', 'bruschetta', 6),\n",
       " ('apple_pie', 'french_toast', 5),\n",
       " ('baklava', 'apple_pie', 5),\n",
       " ('beef_carpaccio', 'bruschetta', 5),\n",
       " ('beet_salad', 'beef_carpaccio', 5),\n",
       " ('beet_salad', 'caesar_salad', 5),\n",
       " ('beet_salad', 'caprese_salad', 5),\n",
       " ('beignets', 'cannoli', 5),\n",
       " ('bruschetta', 'caprese_salad', 5),\n",
       " ('bruschetta', 'cheese_plate', 5),\n",
       " ('cannoli', 'ice_cream', 5),\n",
       " ('carrot_cake', 'bread_pudding', 5),\n",
       " ('carrot_cake', 'cup_cakes', 5),\n",
       " ('carrot_cake', 'tiramisu', 5),\n",
       " ('ceviche', 'tacos', 5),\n",
       " ('cheesecake', 'bread_pudding', 5),\n",
       " ('cheesecake', 'chocolate_cake', 5),\n",
       " ('cheesecake', 'cup_cakes', 5),\n",
       " ('cheesecake', 'pancakes', 5),\n",
       " ('chicken_curry', 'ramen', 5),\n",
       " ('chicken_curry', 'shrimp_and_grits', 5),\n",
       " ('chicken_quesadilla', 'nachos', 5),\n",
       " ('chocolate_cake', 'carrot_cake', 5),\n",
       " ('chocolate_cake', 'cup_cakes', 5),\n",
       " ('chocolate_mousse', 'frozen_yogurt', 5),\n",
       " ('chocolate_mousse', 'ice_cream', 5),\n",
       " ('clam_chowder', 'hummus', 5),\n",
       " ('clam_chowder', 'lobster_bisque', 5),\n",
       " ('crab_cakes', 'tuna_tartare', 5),\n",
       " ('falafel', 'crab_cakes', 5),\n",
       " ('fish_and_chips', 'french_fries', 5),\n",
       " ('foie_gras', 'beet_salad', 5),\n",
       " ('foie_gras', 'chocolate_mousse', 5),\n",
       " ('foie_gras', 'pork_chop', 5),\n",
       " ('foie_gras', 'tuna_tartare', 5),\n",
       " ('french_fries', 'fish_and_chips', 5),\n",
       " ('french_onion_soup', 'clam_chowder', 5),\n",
       " ('french_onion_soup', 'hot_and_sour_soup', 5),\n",
       " ('french_toast', 'bread_pudding', 5),\n",
       " ('frozen_yogurt', 'ice_cream', 5),\n",
       " ('garlic_bread', 'pizza', 5),\n",
       " ('gnocchi', 'hummus', 5),\n",
       " ('gnocchi', 'scallops', 5),\n",
       " ('huevos_rancheros', 'eggs_benedict', 5),\n",
       " ('huevos_rancheros', 'omelette', 5),\n",
       " ('hummus', 'ravioli', 5),\n",
       " ('lasagna', 'huevos_rancheros', 5),\n",
       " ('lobster_bisque', 'creme_brulee', 5),\n",
       " ('lobster_bisque', 'french_onion_soup', 5),\n",
       " ('macaroni_and_cheese', 'french_onion_soup', 5),\n",
       " ('miso_soup', 'pho', 5),\n",
       " ('omelette', 'breakfast_burrito', 5),\n",
       " ('omelette', 'huevos_rancheros', 5),\n",
       " ('omelette', 'nachos', 5),\n",
       " ('oysters', 'mussels', 5),\n",
       " ('paella', 'fried_rice', 5),\n",
       " ('panna_cotta', 'foie_gras', 5),\n",
       " ('pork_chop', 'foie_gras', 5),\n",
       " ('pulled_pork_sandwich', 'fish_and_chips', 5),\n",
       " ('red_velvet_cake', 'carrot_cake', 5),\n",
       " ('red_velvet_cake', 'strawberry_shortcake', 5),\n",
       " ('red_velvet_cake', 'tiramisu', 5),\n",
       " ('samosa', 'apple_pie', 5),\n",
       " ('samosa', 'gyoza', 5),\n",
       " ('shrimp_and_grits', 'risotto', 5),\n",
       " ('steak', 'chicken_wings', 5),\n",
       " ('strawberry_shortcake', 'ice_cream', 5),\n",
       " ('tuna_tartare', 'foie_gras', 5),\n",
       " ('waffles', 'apple_pie', 5),\n",
       " ('apple_pie', 'baklava', 4),\n",
       " ('baby_back_ribs', 'filet_mignon', 4),\n",
       " ('baby_back_ribs', 'grilled_salmon', 4),\n",
       " ('beef_carpaccio', 'tuna_tartare', 4),\n",
       " ('beef_tartare', 'cheese_plate', 4),\n",
       " ('beet_salad', 'ceviche', 4),\n",
       " ('bread_pudding', 'french_toast', 4),\n",
       " ('bread_pudding', 'strawberry_shortcake', 4),\n",
       " ('bread_pudding', 'tiramisu', 4),\n",
       " ('bread_pudding', 'waffles', 4),\n",
       " ('breakfast_burrito', 'tacos', 4),\n",
       " ('bruschetta', 'tacos', 4),\n",
       " ('cannoli', 'cheese_plate', 4),\n",
       " ('caprese_salad', 'beef_carpaccio', 4),\n",
       " ('caprese_salad', 'beet_salad', 4),\n",
       " ('caprese_salad', 'bruschetta', 4),\n",
       " ('caprese_salad', 'scallops', 4),\n",
       " ('caprese_salad', 'strawberry_shortcake', 4),\n",
       " ('caprese_salad', 'sushi', 4),\n",
       " ('carrot_cake', 'chocolate_mousse', 4),\n",
       " ('carrot_cake', 'garlic_bread', 4),\n",
       " ('ceviche', 'sushi', 4),\n",
       " ('cheesecake', 'tiramisu', 4),\n",
       " ('chicken_curry', 'chicken_quesadilla', 4),\n",
       " ('chicken_quesadilla', 'grilled_cheese_sandwich', 4),\n",
       " ('chicken_wings', 'peking_duck', 4),\n",
       " ('chocolate_cake', 'red_velvet_cake', 4),\n",
       " ('chocolate_mousse', 'cheese_plate', 4),\n",
       " ('chocolate_mousse', 'tiramisu', 4),\n",
       " ('club_sandwich', 'hamburger', 4),\n",
       " ('cup_cakes', 'chocolate_mousse', 4),\n",
       " ('filet_mignon', 'huevos_rancheros', 4),\n",
       " ('fish_and_chips', 'chicken_wings', 4),\n",
       " ('fish_and_chips', 'fried_calamari', 4),\n",
       " ('foie_gras', 'beef_tartare', 4),\n",
       " ('foie_gras', 'escargots', 4),\n",
       " ('foie_gras', 'filet_mignon', 4),\n",
       " ('foie_gras', 'garlic_bread', 4),\n",
       " ('foie_gras', 'scallops', 4),\n",
       " ('french_onion_soup', 'bread_pudding', 4),\n",
       " ('french_onion_soup', 'escargots', 4),\n",
       " ('french_toast', 'pancakes', 4),\n",
       " ('french_toast', 'waffles', 4),\n",
       " ('fried_rice', 'paella', 4),\n",
       " ('garlic_bread', 'gnocchi', 4),\n",
       " ('grilled_cheese_sandwich', 'croque_madame', 4),\n",
       " ('grilled_cheese_sandwich', 'fish_and_chips', 4),\n",
       " ('grilled_cheese_sandwich', 'french_toast', 4),\n",
       " ('grilled_cheese_sandwich', 'hot_dog', 4),\n",
       " ('grilled_salmon', 'sashimi', 4),\n",
       " ('gyoza', 'spring_rolls', 4),\n",
       " ('hamburger', 'club_sandwich', 4),\n",
       " ('hamburger', 'croque_madame', 4),\n",
       " ('hamburger', 'hot_dog', 4),\n",
       " ('hot_dog', 'hamburger', 4),\n",
       " ('hot_dog', 'tacos', 4),\n",
       " ('huevos_rancheros', 'breakfast_burrito', 4),\n",
       " ('huevos_rancheros', 'ceviche', 4),\n",
       " ('huevos_rancheros', 'chicken_curry', 4),\n",
       " ('huevos_rancheros', 'tacos', 4),\n",
       " ('hummus', 'cheese_plate', 4),\n",
       " ('hummus', 'greek_salad', 4),\n",
       " ('hummus', 'risotto', 4),\n",
       " ('ice_cream', 'cheese_plate', 4),\n",
       " ('ice_cream', 'strawberry_shortcake', 4),\n",
       " ('ice_cream', 'tiramisu', 4),\n",
       " ('lasagna', 'crab_cakes', 4),\n",
       " ('lasagna', 'french_onion_soup', 4),\n",
       " ('lasagna', 'ravioli', 4),\n",
       " ('lobster_roll_sandwich', 'hamburger', 4),\n",
       " ('lobster_roll_sandwich', 'hot_dog', 4),\n",
       " ('lobster_roll_sandwich', 'tacos', 4),\n",
       " ('macaroni_and_cheese', 'lasagna', 4),\n",
       " ('macarons', 'donuts', 4),\n",
       " ('miso_soup', 'lobster_bisque', 4),\n",
       " ('nachos', 'waffles', 4),\n",
       " ('omelette', 'hot_dog', 4),\n",
       " ('omelette', 'macaroni_and_cheese', 4),\n",
       " ('onion_rings', 'donuts', 4),\n",
       " ('paella', 'risotto', 4),\n",
       " ('pancakes', 'bread_pudding', 4),\n",
       " ('pancakes', 'french_toast', 4),\n",
       " ('peking_duck', 'foie_gras', 4),\n",
       " ('pizza', 'ravioli', 4),\n",
       " ('pork_chop', 'baby_back_ribs', 4),\n",
       " ('pork_chop', 'lasagna', 4),\n",
       " ('pulled_pork_sandwich', 'lobster_roll_sandwich', 4),\n",
       " ('ravioli', 'scallops', 4),\n",
       " ('ravioli', 'spaghetti_bolognese', 4),\n",
       " ('red_velvet_cake', 'chocolate_cake', 4),\n",
       " ('samosa', 'breakfast_burrito', 4),\n",
       " ('samosa', 'lasagna', 4),\n",
       " ('sashimi', 'cheese_plate', 4),\n",
       " ('scallops', 'deviled_eggs', 4),\n",
       " ('scallops', 'foie_gras', 4),\n",
       " ('scallops', 'panna_cotta', 4),\n",
       " ('seaweed_salad', 'beet_salad', 4),\n",
       " ('shrimp_and_grits', 'chicken_curry', 4),\n",
       " ('shrimp_and_grits', 'crab_cakes', 4),\n",
       " ('shrimp_and_grits', 'scallops', 4),\n",
       " ('spaghetti_carbonara', 'spaghetti_bolognese', 4),\n",
       " ('spring_rolls', 'breakfast_burrito', 4),\n",
       " ('steak', 'french_toast', 4),\n",
       " ('steak', 'grilled_salmon', 4),\n",
       " ('strawberry_shortcake', 'apple_pie', 4),\n",
       " ('strawberry_shortcake', 'bread_pudding', 4),\n",
       " ('strawberry_shortcake', 'cheesecake', 4),\n",
       " ('strawberry_shortcake', 'chocolate_mousse', 4),\n",
       " ('strawberry_shortcake', 'cup_cakes', 4),\n",
       " ('sushi', 'oysters', 4),\n",
       " ('tacos', 'chicken_quesadilla', 4),\n",
       " ('tacos', 'falafel', 4),\n",
       " ('tacos', 'lobster_roll_sandwich', 4),\n",
       " ('tacos', 'paella', 4),\n",
       " ('tiramisu', 'apple_pie', 4),\n",
       " ('tiramisu', 'bread_pudding', 4),\n",
       " ('tuna_tartare', 'panna_cotta', 4),\n",
       " ('waffles', 'pancakes', 4),\n",
       " ('waffles', 'strawberry_shortcake', 4),\n",
       " ('apple_pie', 'cannoli', 3),\n",
       " ('apple_pie', 'carrot_cake', 3),\n",
       " ('apple_pie', 'gyoza', 3),\n",
       " ('apple_pie', 'omelette', 3),\n",
       " ('apple_pie', 'onion_rings', 3),\n",
       " ('apple_pie', 'peking_duck', 3),\n",
       " ('apple_pie', 'pizza', 3),\n",
       " ('apple_pie', 'strawberry_shortcake', 3),\n",
       " ('baby_back_ribs', 'chicken_wings', 3),\n",
       " ('baby_back_ribs', 'poutine', 3),\n",
       " ('baby_back_ribs', 'pulled_pork_sandwich', 3),\n",
       " ('baklava', 'carrot_cake', 3),\n",
       " ('baklava', 'french_toast', 3),\n",
       " ('baklava', 'garlic_bread', 3),\n",
       " ('baklava', 'macarons', 3),\n",
       " ('baklava', 'samosa', 3),\n",
       " ('baklava', 'spring_rolls', 3),\n",
       " ('beef_tartare', 'beef_carpaccio', 3),\n",
       " ('beef_tartare', 'beet_salad', 3),\n",
       " ('beef_tartare', 'escargots', 3),\n",
       " ('beef_tartare', 'falafel', 3),\n",
       " ('beef_tartare', 'foie_gras', 3),\n",
       " ('beet_salad', 'ice_cream', 3),\n",
       " ('bibimbap', 'fried_rice', 3),\n",
       " ('bibimbap', 'paella', 3),\n",
       " ('bread_pudding', 'breakfast_burrito', 3),\n",
       " ('bread_pudding', 'cannoli', 3),\n",
       " ('bread_pudding', 'carrot_cake', 3),\n",
       " ('bread_pudding', 'frozen_yogurt', 3),\n",
       " ('bread_pudding', 'ice_cream', 3),\n",
       " ('bread_pudding', 'onion_rings', 3),\n",
       " ('bread_pudding', 'ravioli', 3),\n",
       " ('breakfast_burrito', 'samosa', 3),\n",
       " ('bruschetta', 'beef_tartare', 3),\n",
       " ('bruschetta', 'ceviche', 3),\n",
       " ('bruschetta', 'pizza', 3),\n",
       " ('bruschetta', 'scallops', 3),\n",
       " ('bruschetta', 'sushi', 3),\n",
       " ('caesar_salad', 'beef_carpaccio', 3),\n",
       " ('caesar_salad', 'ceviche', 3),\n",
       " ('caesar_salad', 'tacos', 3),\n",
       " ('carrot_cake', 'red_velvet_cake', 3),\n",
       " ('ceviche', 'caprese_salad', 3),\n",
       " ('ceviche', 'club_sandwich', 3),\n",
       " ('ceviche', 'huevos_rancheros', 3),\n",
       " ('ceviche', 'lobster_roll_sandwich', 3),\n",
       " ('ceviche', 'nachos', 3),\n",
       " ('ceviche', 'shrimp_and_grits', 3),\n",
       " ('cheese_plate', 'sushi', 3),\n",
       " ('cheesecake', 'baklava', 3),\n",
       " ('cheesecake', 'cheese_plate', 3),\n",
       " ('chicken_curry', 'breakfast_burrito', 3),\n",
       " ('chicken_curry', 'hot_and_sour_soup', 3),\n",
       " ('chicken_curry', 'paella', 3),\n",
       " ('chicken_curry', 'risotto', 3),\n",
       " ('chicken_quesadilla', 'caesar_salad', 3),\n",
       " ('chicken_quesadilla', 'garlic_bread', 3),\n",
       " ('chicken_quesadilla', 'guacamole', 3),\n",
       " ('chicken_quesadilla', 'gyoza', 3),\n",
       " ('chicken_wings', 'pork_chop', 3),\n",
       " ('chocolate_cake', 'bread_pudding', 3),\n",
       " ('chocolate_mousse', 'cheesecake', 3),\n",
       " ('chocolate_mousse', 'pancakes', 3),\n",
       " ('chocolate_mousse', 'sashimi', 3),\n",
       " ('churros', 'beignets', 3),\n",
       " ('churros', 'cheese_plate', 3),\n",
       " ('churros', 'onion_rings', 3),\n",
       " ('club_sandwich', 'french_fries', 3),\n",
       " ('club_sandwich', 'guacamole', 3),\n",
       " ('crab_cakes', 'pork_chop', 3),\n",
       " ('crab_cakes', 'shrimp_and_grits', 3),\n",
       " ('crab_cakes', 'takoyaki', 3),\n",
       " ('creme_brulee', 'donuts', 3),\n",
       " ('creme_brulee', 'foie_gras', 3),\n",
       " ('creme_brulee', 'french_onion_soup', 3),\n",
       " ('creme_brulee', 'miso_soup', 3),\n",
       " ('croque_madame', 'bread_pudding', 3),\n",
       " ('croque_madame', 'huevos_rancheros', 3),\n",
       " ('cup_cakes', 'chocolate_cake', 3),\n",
       " ('cup_cakes', 'strawberry_shortcake', 3),\n",
       " ('deviled_eggs', 'hummus', 3),\n",
       " ('escargots', 'beet_salad', 3),\n",
       " ('escargots', 'cheese_plate', 3),\n",
       " ('escargots', 'foie_gras', 3),\n",
       " ('escargots', 'scallops', 3),\n",
       " ('falafel', 'breakfast_burrito', 3),\n",
       " ('falafel', 'greek_salad', 3),\n",
       " ('falafel', 'hummus', 3),\n",
       " ('falafel', 'lobster_roll_sandwich', 3),\n",
       " ('falafel', 'pulled_pork_sandwich', 3),\n",
       " ('filet_mignon', 'bread_pudding', 3),\n",
       " ('filet_mignon', 'falafel', 3),\n",
       " ('filet_mignon', 'scallops', 3),\n",
       " ('filet_mignon', 'tuna_tartare', 3),\n",
       " ('fish_and_chips', 'tacos', 3),\n",
       " ('foie_gras', 'cheesecake', 3),\n",
       " ('foie_gras', 'pulled_pork_sandwich', 3),\n",
       " ('foie_gras', 'steak', 3),\n",
       " ('french_onion_soup', 'ramen', 3),\n",
       " ('french_toast', 'garlic_bread', 3),\n",
       " ('french_toast', 'gyoza', 3),\n",
       " ('fried_calamari', 'chicken_wings', 3),\n",
       " ('fried_rice', 'bibimbap', 3),\n",
       " ('fried_rice', 'huevos_rancheros', 3),\n",
       " ('garlic_bread', 'baklava', 3),\n",
       " ('garlic_bread', 'cannoli', 3),\n",
       " ('garlic_bread', 'gyoza', 3),\n",
       " ('garlic_bread', 'hot_dog', 3),\n",
       " ('gnocchi', 'caprese_salad', 3),\n",
       " ('gnocchi', 'ceviche', 3),\n",
       " ('gnocchi', 'chicken_curry', 3),\n",
       " ('gnocchi', 'lasagna', 3),\n",
       " ('gnocchi', 'paella', 3),\n",
       " ('greek_salad', 'ceviche', 3),\n",
       " ('greek_salad', 'chicken_quesadilla', 3),\n",
       " ('greek_salad', 'tuna_tartare', 3),\n",
       " ('grilled_cheese_sandwich', 'cheese_plate', 3),\n",
       " ('grilled_cheese_sandwich', 'gyoza', 3),\n",
       " ('grilled_cheese_sandwich', 'pancakes', 3),\n",
       " ('grilled_cheese_sandwich', 'pork_chop', 3),\n",
       " ('grilled_cheese_sandwich', 'samosa', 3),\n",
       " ('grilled_salmon', 'bruschetta', 3),\n",
       " ('grilled_salmon', 'ceviche', 3),\n",
       " ('grilled_salmon', 'scallops', 3),\n",
       " ('grilled_salmon', 'steak', 3),\n",
       " ('guacamole', 'samosa', 3),\n",
       " ('gyoza', 'apple_pie', 3),\n",
       " ('gyoza', 'garlic_bread', 3),\n",
       " ('hot_and_sour_soup', 'french_onion_soup', 3),\n",
       " ('hot_and_sour_soup', 'pho', 3),\n",
       " ('hot_dog', 'breakfast_burrito', 3),\n",
       " ('hot_dog', 'grilled_cheese_sandwich', 3),\n",
       " ('hot_dog', 'lobster_roll_sandwich', 3),\n",
       " ('huevos_rancheros', 'bruschetta', 3),\n",
       " ('huevos_rancheros', 'croque_madame', 3),\n",
       " ('huevos_rancheros', 'hamburger', 3),\n",
       " ('hummus', 'gyoza', 3),\n",
       " ('hummus', 'huevos_rancheros', 3),\n",
       " ('hummus', 'tacos', 3),\n",
       " ('ice_cream', 'clam_chowder', 3),\n",
       " ('ice_cream', 'macarons', 3),\n",
       " ('ice_cream', 'panna_cotta', 3),\n",
       " ('lobster_roll_sandwich', 'caesar_salad', 3),\n",
       " ('macarons', 'cup_cakes', 3),\n",
       " ('macarons', 'panna_cotta', 3),\n",
       " ('nachos', 'bruschetta', 3),\n",
       " ('omelette', 'paella', 3),\n",
       " ('omelette', 'pizza', 3),\n",
       " ('onion_rings', 'french_fries', 3),\n",
       " ('oysters', 'escargots', 3),\n",
       " ('pad_thai', 'bibimbap', 3),\n",
       " ('pad_thai', 'macaroni_and_cheese', 3),\n",
       " ('pad_thai', 'nachos', 3),\n",
       " ('pad_thai', 'paella', 3),\n",
       " ('pad_thai', 'ramen', 3),\n",
       " ('paella', 'bibimbap', 3),\n",
       " ('paella', 'nachos', 3),\n",
       " ('paella', 'pizza', 3),\n",
       " ('pancakes', 'apple_pie', 3),\n",
       " ('pancakes', 'chicken_quesadilla', 3),\n",
       " ('pancakes', 'hummus', 3),\n",
       " ('pancakes', 'omelette', 3),\n",
       " ('pancakes', 'pizza', 3),\n",
       " ('pancakes', 'waffles', 3),\n",
       " ('panna_cotta', 'ceviche', 3),\n",
       " ('panna_cotta', 'churros', 3),\n",
       " ('peking_duck', 'falafel', 3),\n",
       " ('peking_duck', 'hamburger', 3),\n",
       " ('peking_duck', 'hot_dog', 3),\n",
       " ('peking_duck', 'pulled_pork_sandwich', 3),\n",
       " ('peking_duck', 'spring_rolls', 3),\n",
       " ('pho', 'hot_and_sour_soup', 3),\n",
       " ('pork_chop', 'chicken_wings', 3),\n",
       " ('pork_chop', 'omelette', 3),\n",
       " ('pork_chop', 'risotto', 3),\n",
       " ('pork_chop', 'shrimp_and_grits', 3),\n",
       " ('poutine', 'macaroni_and_cheese', 3),\n",
       " ('pulled_pork_sandwich', 'breakfast_burrito', 3),\n",
       " ('pulled_pork_sandwich', 'grilled_cheese_sandwich', 3),\n",
       " ('pulled_pork_sandwich', 'hot_dog', 3),\n",
       " ('pulled_pork_sandwich', 'spaghetti_bolognese', 3),\n",
       " ('ramen', 'bibimbap', 3),\n",
       " ('ramen', 'french_onion_soup', 3),\n",
       " ('ramen', 'spaghetti_carbonara', 3),\n",
       " ('ravioli', 'bruschetta', 3),\n",
       " ('ravioli', 'ramen', 3),\n",
       " ('ravioli', 'tuna_tartare', 3),\n",
       " ('red_velvet_cake', 'panna_cotta', 3),\n",
       " ('risotto', 'macaroni_and_cheese', 3),\n",
       " ('risotto', 'paella', 3),\n",
       " ('samosa', 'fish_and_chips', 3),\n",
       " ('samosa', 'omelette', 3),\n",
       " ('sashimi', 'panna_cotta', 3),\n",
       " ('scallops', 'ramen', 3),\n",
       " ('seaweed_salad', 'bibimbap', 3),\n",
       " ('shrimp_and_grits', 'grilled_salmon', 3),\n",
       " ('spaghetti_bolognese', 'lasagna', 3),\n",
       " ('spring_rolls', 'cheese_plate', 3),\n",
       " ('spring_rolls', 'gyoza', 3),\n",
       " ('spring_rolls', 'sushi', 3),\n",
       " ('steak', 'falafel', 3),\n",
       " ('steak', 'peking_duck', 3),\n",
       " ('strawberry_shortcake', 'frozen_yogurt', 3),\n",
       " ('strawberry_shortcake', 'lobster_roll_sandwich', 3),\n",
       " ('strawberry_shortcake', 'red_velvet_cake', 3),\n",
       " ('sushi', 'bruschetta', 3),\n",
       " ('sushi', 'grilled_salmon', 3),\n",
       " ('tacos', 'breakfast_burrito', 3),\n",
       " ('tacos', 'ceviche', 3),\n",
       " ('tacos', 'club_sandwich', 3),\n",
       " ('tacos', 'gyoza', 3),\n",
       " ('tacos', 'hummus', 3),\n",
       " ('takoyaki', 'tacos', 3),\n",
       " ('tiramisu', 'cannoli', 3),\n",
       " ('tiramisu', 'cheesecake', 3),\n",
       " ('tiramisu', 'red_velvet_cake', 3),\n",
       " ('waffles', 'cheese_plate', 3),\n",
       " ('waffles', 'donuts', 3),\n",
       " ('waffles', 'french_toast', 3)]"
      ]
     },
     "execution_count": 27,
     "metadata": {},
     "output_type": "execute_result"
    }
   ],
   "source": [
    "interp.most_confused(min_val=2)\n"
   ]
  },
  {
   "cell_type": "markdown",
   "metadata": {},
   "source": [
    "### Sauvegarde"
   ]
  },
  {
   "cell_type": "code",
   "execution_count": 88,
   "metadata": {
    "papermill": {
     "duration": 0.063316,
     "end_time": "2018-11-12T12:54:48.594606",
     "exception": false,
     "start_time": "2018-11-12T12:54:48.531290",
     "status": "completed"
    },
    "tags": []
   },
   "outputs": [],
   "source": [
    "final_model_name = f'{model_name}-final'"
   ]
  },
  {
   "cell_type": "code",
   "execution_count": 89,
   "metadata": {
    "papermill": {
     "duration": 0.542015,
     "end_time": "2018-11-12T12:54:49.192793",
     "exception": false,
     "start_time": "2018-11-12T12:54:48.650778",
     "status": "completed"
    },
    "tags": []
   },
   "outputs": [
    {
     "data": {
      "text/plain": [
       "Path('data/food-101/images/models/resnet34-final.pth')"
      ]
     },
     "execution_count": 89,
     "metadata": {},
     "output_type": "execute_result"
    }
   ],
   "source": [
    "learn.save(final_model_name)"
   ]
  },
  {
   "cell_type": "code",
   "execution_count": null,
   "metadata": {
    "papermill": {
     "duration": 0.341071,
     "end_time": "2018-11-12T12:54:49.589543",
     "exception": false,
     "start_time": "2018-11-12T12:54:49.248472",
     "status": "completed"
    },
    "tags": []
   },
   "outputs": [],
   "source": []
  },
  {
   "cell_type": "markdown",
   "metadata": {
    "papermill": {
     "duration": 0.055792,
     "end_time": "2018-11-12T12:54:49.702766",
     "exception": false,
     "start_time": "2018-11-12T12:54:49.646974",
     "status": "completed"
    },
    "tags": []
   },
   "source": [
    "# Teste du modèle"
   ]
  },
  {
   "cell_type": "markdown",
   "metadata": {
    "papermill": {
     "duration": 0.054039,
     "end_time": "2018-11-12T12:54:49.813004",
     "exception": false,
     "start_time": "2018-11-12T12:54:49.758965",
     "status": "completed"
    },
    "tags": []
   },
   "source": [
    "### Chargement du modèle entrainé"
   ]
  },
  {
   "cell_type": "code",
   "execution_count": 15,
   "metadata": {},
   "outputs": [],
   "source": [
    "from fastai.data.external import *"
   ]
  },
  {
   "cell_type": "code",
   "execution_count": null,
   "metadata": {},
   "outputs": [],
   "source": []
  },
  {
   "cell_type": "code",
   "execution_count": 25,
   "metadata": {},
   "outputs": [],
   "source": [
    "classif = load_learner(\"data/model2.pkl\")"
   ]
  },
  {
   "cell_type": "code",
   "execution_count": 26,
   "metadata": {},
   "outputs": [
    {
     "data": {
      "text/html": [],
      "text/plain": [
       "<IPython.core.display.HTML object>"
      ]
     },
     "metadata": {},
     "output_type": "display_data"
    },
    {
     "data": {
      "text/plain": [
       "('hot_dog',\n",
       " tensor(55),\n",
       " tensor([1.7369e-07, 1.0558e-07, 2.3832e-07, 9.6690e-08, 5.7385e-08, 2.5595e-08,\n",
       "         2.0480e-08, 1.4756e-10, 1.3754e-08, 2.2323e-06, 2.6051e-07, 1.7747e-09,\n",
       "         9.7692e-07, 2.4582e-07, 1.6717e-06, 1.0177e-08, 2.0900e-07, 4.7577e-06,\n",
       "         9.1307e-09, 7.7743e-09, 1.8232e-09, 1.1913e-06, 8.5675e-07, 2.4264e-07,\n",
       "         2.2438e-09, 6.1355e-07, 2.6697e-09, 1.3423e-06, 8.3579e-09, 3.3956e-07,\n",
       "         6.2637e-09, 6.8279e-06, 3.2000e-08, 9.1072e-09, 2.5932e-08, 4.9562e-08,\n",
       "         1.6495e-06, 3.7463e-08, 8.3145e-09, 1.1750e-06, 6.4861e-07, 9.7999e-08,\n",
       "         4.1253e-08, 1.3878e-09, 6.9987e-09, 3.2061e-08, 2.3278e-06, 1.2596e-08,\n",
       "         3.3557e-08, 1.6318e-06, 8.0110e-08, 3.0514e-09, 9.7041e-09, 1.5957e-05,\n",
       "         4.5325e-08, 9.9993e-01, 2.5454e-08, 3.2759e-08, 8.2791e-08, 1.1993e-08,\n",
       "         6.8319e-08, 6.3293e-07, 1.5317e-08, 1.1099e-05, 1.6177e-08, 4.7275e-08,\n",
       "         8.3540e-10, 3.2458e-08, 1.5771e-08, 4.1686e-08, 2.8686e-10, 2.7139e-08,\n",
       "         6.1042e-08, 1.4155e-07, 3.4313e-07, 2.1987e-09, 2.7472e-07, 1.1672e-08,\n",
       "         9.2482e-08, 2.0503e-08, 7.0703e-07, 1.6243e-09, 1.7661e-08, 3.6263e-07,\n",
       "         2.0645e-08, 6.5228e-08, 2.0445e-07, 4.3891e-08, 5.8031e-09, 2.3422e-08,\n",
       "         1.2573e-08, 8.0997e-09, 1.7535e-06, 4.0130e-08, 1.1473e-06, 4.2751e-07,\n",
       "         7.1392e-07, 4.2062e-08, 4.4667e-08, 1.5405e-07, 5.7058e-08]))"
      ]
     },
     "execution_count": 26,
     "metadata": {},
     "output_type": "execute_result"
    }
   ],
   "source": [
    "classif.predict(\"data/Hotdog.png\")"
   ]
  },
  {
   "cell_type": "code",
   "execution_count": null,
   "metadata": {},
   "outputs": [],
   "source": []
  },
  {
   "cell_type": "code",
   "execution_count": null,
   "metadata": {},
   "outputs": [],
   "source": []
  },
  {
   "cell_type": "code",
   "execution_count": null,
   "metadata": {},
   "outputs": [],
   "source": []
  },
  {
   "cell_type": "code",
   "execution_count": 24,
   "metadata": {
    "scrolled": true
   },
   "outputs": [
    {
     "ename": "NameError",
     "evalue": "name 'charge_img' is not defined",
     "output_type": "error",
     "traceback": [
      "\u001b[0;31m---------------------------------------------------------------------------\u001b[0m",
      "\u001b[0;31mNameError\u001b[0m                                 Traceback (most recent call last)",
      "\u001b[0;32m<ipython-input-24-7a82e87d5bbc>\u001b[0m in \u001b[0;36m<module>\u001b[0;34m\u001b[0m\n\u001b[0;32m----> 1\u001b[0;31m \u001b[0mimg\u001b[0m \u001b[0;34m=\u001b[0m \u001b[0mcharge_img\u001b[0m\u001b[0;34m(\u001b[0m\u001b[0;34m\"data/Guacamole-lime.jpg\"\u001b[0m\u001b[0;34m)\u001b[0m\u001b[0;34m\u001b[0m\u001b[0;34m\u001b[0m\u001b[0m\n\u001b[0m",
      "\u001b[0;31mNameError\u001b[0m: name 'charge_img' is not defined"
     ]
    }
   ],
   "source": [
    "img = charge_img(\"data/Guacamole-lime.jpg\")"
   ]
  },
  {
   "cell_type": "code",
   "execution_count": 18,
   "metadata": {
    "scrolled": true
   },
   "outputs": [
    {
     "data": {
      "text/html": [],
      "text/plain": [
       "<IPython.core.display.HTML object>"
      ]
     },
     "metadata": {},
     "output_type": "display_data"
    },
    {
     "data": {
      "text/plain": [
       "'guacamole'"
      ]
     },
     "execution_count": 18,
     "metadata": {},
     "output_type": "execute_result"
    }
   ],
   "source": [
    "pred_class,pred_idx,outputs = learn.predict(\"data/Guacamole-lime.jpg\")\n",
    "pred_class"
   ]
  },
  {
   "cell_type": "code",
   "execution_count": null,
   "metadata": {},
   "outputs": [],
   "source": []
  },
  {
   "cell_type": "code",
   "execution_count": null,
   "metadata": {},
   "outputs": [],
   "source": []
  },
  {
   "cell_type": "code",
   "execution_count": null,
   "metadata": {},
   "outputs": [],
   "source": []
  },
  {
   "cell_type": "code",
   "execution_count": 32,
   "metadata": {
    "ExecuteTime": {
     "end_time": "2020-10-30T10:44:49.811997Z",
     "start_time": "2020-10-30T10:44:49.717024Z"
    }
   },
   "outputs": [],
   "source": [
    "guacamole_url = \"https://upload.wikimedia.org/wikipedia/commons/1/18/Guacamole-lime.jpg\""
   ]
  },
  {
   "cell_type": "code",
   "execution_count": 68,
   "metadata": {
    "ExecuteTime": {
     "end_time": "2020-10-30T11:30:29.478274Z",
     "start_time": "2020-10-30T11:30:29.102160Z"
    }
   },
   "outputs": [],
   "source": [
    "classif = load_learner('model.pkl')"
   ]
  },
  {
   "cell_type": "code",
   "execution_count": 76,
   "metadata": {
    "ExecuteTime": {
     "end_time": "2020-10-30T11:30:32.283038Z",
     "start_time": "2020-10-30T11:30:32.145562Z"
    }
   },
   "outputs": [],
   "source": [
    "def charge_img(url):\n",
    "    response = requests.get(url)\n",
    "    img = image_open(BytesIO(response.content))\n",
    "    return img"
   ]
  },
  {
   "cell_type": "code",
   "execution_count": 77,
   "metadata": {
    "ExecuteTime": {
     "end_time": "2020-10-30T11:30:35.464384Z",
     "start_time": "2020-10-30T11:30:35.400400Z"
    }
   },
   "outputs": [],
   "source": [
    "def predict_two(url):\n",
    "    img = charge_img(url)\n",
    "    pred_class,pred_idx,outputs = classif.predict(img)\n",
    "    res =  zip (classif.data.classes, outputs.tolist())\n",
    "    predictions = sorted(res, key=lambda x:x[1], reverse=True)\n",
    "    top_predictions = predictions[0:5]\n",
    "    pprint.pprint( top_predictions)\n",
    "    return img.resize(400)"
   ]
  },
  {
   "cell_type": "code",
   "execution_count": 78,
   "metadata": {
    "ExecuteTime": {
     "end_time": "2020-10-30T11:30:42.484390Z",
     "start_time": "2020-10-30T11:30:40.563775Z"
    },
    "collapsed": true
   },
   "outputs": [
    {
     "ename": "NameError",
     "evalue": "name 'image_open' is not defined",
     "output_type": "error",
     "traceback": [
      "\u001b[0;31m---------------------------------------------------------------------------\u001b[0m",
      "\u001b[0;31mNameError\u001b[0m                                 Traceback (most recent call last)",
      "\u001b[0;32m<ipython-input-78-42a9953c5a7e>\u001b[0m in \u001b[0;36m<module>\u001b[0;34m\u001b[0m\n\u001b[0;32m----> 1\u001b[0;31m \u001b[0mpredict_two\u001b[0m\u001b[0;34m(\u001b[0m\u001b[0mguacamole_url\u001b[0m\u001b[0;34m)\u001b[0m\u001b[0;34m\u001b[0m\u001b[0;34m\u001b[0m\u001b[0m\n\u001b[0m",
      "\u001b[0;32m<ipython-input-77-0db6b1c4042e>\u001b[0m in \u001b[0;36mpredict_two\u001b[0;34m(url)\u001b[0m\n\u001b[1;32m      1\u001b[0m \u001b[0;32mdef\u001b[0m \u001b[0mpredict_two\u001b[0m\u001b[0;34m(\u001b[0m\u001b[0murl\u001b[0m\u001b[0;34m)\u001b[0m\u001b[0;34m:\u001b[0m\u001b[0;34m\u001b[0m\u001b[0;34m\u001b[0m\u001b[0m\n\u001b[0;32m----> 2\u001b[0;31m     \u001b[0mimg\u001b[0m \u001b[0;34m=\u001b[0m \u001b[0mcharge_img\u001b[0m\u001b[0;34m(\u001b[0m\u001b[0murl\u001b[0m\u001b[0;34m)\u001b[0m\u001b[0;34m\u001b[0m\u001b[0;34m\u001b[0m\u001b[0m\n\u001b[0m\u001b[1;32m      3\u001b[0m     \u001b[0mpred_class\u001b[0m\u001b[0;34m,\u001b[0m\u001b[0mpred_idx\u001b[0m\u001b[0;34m,\u001b[0m\u001b[0moutputs\u001b[0m \u001b[0;34m=\u001b[0m \u001b[0mclassif\u001b[0m\u001b[0;34m.\u001b[0m\u001b[0mpredict\u001b[0m\u001b[0;34m(\u001b[0m\u001b[0mimg\u001b[0m\u001b[0;34m)\u001b[0m\u001b[0;34m\u001b[0m\u001b[0;34m\u001b[0m\u001b[0m\n\u001b[1;32m      4\u001b[0m     \u001b[0mres\u001b[0m \u001b[0;34m=\u001b[0m  \u001b[0mzip\u001b[0m \u001b[0;34m(\u001b[0m\u001b[0mclassif\u001b[0m\u001b[0;34m.\u001b[0m\u001b[0mdata\u001b[0m\u001b[0;34m.\u001b[0m\u001b[0mclasses\u001b[0m\u001b[0;34m,\u001b[0m \u001b[0moutputs\u001b[0m\u001b[0;34m.\u001b[0m\u001b[0mtolist\u001b[0m\u001b[0;34m(\u001b[0m\u001b[0;34m)\u001b[0m\u001b[0;34m)\u001b[0m\u001b[0;34m\u001b[0m\u001b[0;34m\u001b[0m\u001b[0m\n\u001b[1;32m      5\u001b[0m     \u001b[0mpredictions\u001b[0m \u001b[0;34m=\u001b[0m \u001b[0msorted\u001b[0m\u001b[0;34m(\u001b[0m\u001b[0mres\u001b[0m\u001b[0;34m,\u001b[0m \u001b[0mkey\u001b[0m\u001b[0;34m=\u001b[0m\u001b[0;32mlambda\u001b[0m \u001b[0mx\u001b[0m\u001b[0;34m:\u001b[0m\u001b[0mx\u001b[0m\u001b[0;34m[\u001b[0m\u001b[0;36m1\u001b[0m\u001b[0;34m]\u001b[0m\u001b[0;34m,\u001b[0m \u001b[0mreverse\u001b[0m\u001b[0;34m=\u001b[0m\u001b[0;32mTrue\u001b[0m\u001b[0;34m)\u001b[0m\u001b[0;34m\u001b[0m\u001b[0;34m\u001b[0m\u001b[0m\n",
      "\u001b[0;32m<ipython-input-76-ec69d0be3bfb>\u001b[0m in \u001b[0;36mcharge_img\u001b[0;34m(url)\u001b[0m\n\u001b[1;32m      1\u001b[0m \u001b[0;32mdef\u001b[0m \u001b[0mcharge_img\u001b[0m\u001b[0;34m(\u001b[0m\u001b[0murl\u001b[0m\u001b[0;34m)\u001b[0m\u001b[0;34m:\u001b[0m\u001b[0;34m\u001b[0m\u001b[0;34m\u001b[0m\u001b[0m\n\u001b[1;32m      2\u001b[0m     \u001b[0mresponse\u001b[0m \u001b[0;34m=\u001b[0m \u001b[0mrequests\u001b[0m\u001b[0;34m.\u001b[0m\u001b[0mget\u001b[0m\u001b[0;34m(\u001b[0m\u001b[0murl\u001b[0m\u001b[0;34m)\u001b[0m\u001b[0;34m\u001b[0m\u001b[0;34m\u001b[0m\u001b[0m\n\u001b[0;32m----> 3\u001b[0;31m     \u001b[0mimg\u001b[0m \u001b[0;34m=\u001b[0m \u001b[0mimage_open\u001b[0m\u001b[0;34m(\u001b[0m\u001b[0mBytesIO\u001b[0m\u001b[0;34m(\u001b[0m\u001b[0mresponse\u001b[0m\u001b[0;34m.\u001b[0m\u001b[0mcontent\u001b[0m\u001b[0;34m)\u001b[0m\u001b[0;34m)\u001b[0m\u001b[0;34m\u001b[0m\u001b[0;34m\u001b[0m\u001b[0m\n\u001b[0m\u001b[1;32m      4\u001b[0m     \u001b[0;32mreturn\u001b[0m \u001b[0mimg\u001b[0m\u001b[0;34m\u001b[0m\u001b[0;34m\u001b[0m\u001b[0m\n",
      "\u001b[0;31mNameError\u001b[0m: name 'image_open' is not defined"
     ]
    }
   ],
   "source": [
    "predict_two(guacamole_url)"
   ]
  },
  {
   "cell_type": "code",
   "execution_count": 65,
   "metadata": {},
   "outputs": [],
   "source": [
    "def predict_one(img):\n",
    "    \n",
    "    pred_class,pred_idx,outputs = classif.predict(img)\n",
    "    res =  zip (classif.data.classes, outputs.tolist())\n",
    "    predictions = sorted(res, key=lambda x:x[1], reverse=True)\n",
    "    top_predictions = predictions[0:5]\n",
    "    pprint.pprint( top_predictions)\n",
    "    return img.resize(400)"
   ]
  },
  {
   "cell_type": "code",
   "execution_count": 69,
   "metadata": {
    "collapsed": true
   },
   "outputs": [
    {
     "data": {
      "text/html": [],
      "text/plain": [
       "<IPython.core.display.HTML object>"
      ]
     },
     "metadata": {},
     "output_type": "display_data"
    },
    {
     "ename": "AttributeError",
     "evalue": "'Learner' object has no attribute 'data'",
     "output_type": "error",
     "traceback": [
      "\u001b[0;31m---------------------------------------------------------------------------\u001b[0m",
      "\u001b[0;31mAttributeError\u001b[0m                            Traceback (most recent call last)",
      "\u001b[0;32m<ipython-input-69-37c9153354ed>\u001b[0m in \u001b[0;36m<module>\u001b[0;34m\u001b[0m\n\u001b[0;32m----> 1\u001b[0;31m \u001b[0mpredict_one\u001b[0m\u001b[0;34m(\u001b[0m\u001b[0;34m\"data/Guacamole-lime.jpg\"\u001b[0m\u001b[0;34m)\u001b[0m\u001b[0;34m\u001b[0m\u001b[0;34m\u001b[0m\u001b[0m\n\u001b[0m",
      "\u001b[0;32m<ipython-input-65-6a04a7d55ec5>\u001b[0m in \u001b[0;36mpredict_one\u001b[0;34m(img)\u001b[0m\n\u001b[1;32m      2\u001b[0m \u001b[0;34m\u001b[0m\u001b[0m\n\u001b[1;32m      3\u001b[0m     \u001b[0mpred_class\u001b[0m\u001b[0;34m,\u001b[0m\u001b[0mpred_idx\u001b[0m\u001b[0;34m,\u001b[0m\u001b[0moutputs\u001b[0m \u001b[0;34m=\u001b[0m \u001b[0mclassif\u001b[0m\u001b[0;34m.\u001b[0m\u001b[0mpredict\u001b[0m\u001b[0;34m(\u001b[0m\u001b[0mimg\u001b[0m\u001b[0;34m)\u001b[0m\u001b[0;34m\u001b[0m\u001b[0;34m\u001b[0m\u001b[0m\n\u001b[0;32m----> 4\u001b[0;31m     \u001b[0mres\u001b[0m \u001b[0;34m=\u001b[0m  \u001b[0mzip\u001b[0m \u001b[0;34m(\u001b[0m\u001b[0mclassif\u001b[0m\u001b[0;34m.\u001b[0m\u001b[0mdata\u001b[0m\u001b[0;34m.\u001b[0m\u001b[0mclasses\u001b[0m\u001b[0;34m,\u001b[0m \u001b[0moutputs\u001b[0m\u001b[0;34m.\u001b[0m\u001b[0mtolist\u001b[0m\u001b[0;34m(\u001b[0m\u001b[0;34m)\u001b[0m\u001b[0;34m)\u001b[0m\u001b[0;34m\u001b[0m\u001b[0;34m\u001b[0m\u001b[0m\n\u001b[0m\u001b[1;32m      5\u001b[0m     \u001b[0mpredictions\u001b[0m \u001b[0;34m=\u001b[0m \u001b[0msorted\u001b[0m\u001b[0;34m(\u001b[0m\u001b[0mres\u001b[0m\u001b[0;34m,\u001b[0m \u001b[0mkey\u001b[0m\u001b[0;34m=\u001b[0m\u001b[0;32mlambda\u001b[0m \u001b[0mx\u001b[0m\u001b[0;34m:\u001b[0m\u001b[0mx\u001b[0m\u001b[0;34m[\u001b[0m\u001b[0;36m1\u001b[0m\u001b[0;34m]\u001b[0m\u001b[0;34m,\u001b[0m \u001b[0mreverse\u001b[0m\u001b[0;34m=\u001b[0m\u001b[0;32mTrue\u001b[0m\u001b[0;34m)\u001b[0m\u001b[0;34m\u001b[0m\u001b[0;34m\u001b[0m\u001b[0m\n\u001b[1;32m      6\u001b[0m     \u001b[0mtop_predictions\u001b[0m \u001b[0;34m=\u001b[0m \u001b[0mpredictions\u001b[0m\u001b[0;34m[\u001b[0m\u001b[0;36m0\u001b[0m\u001b[0;34m:\u001b[0m\u001b[0;36m5\u001b[0m\u001b[0;34m]\u001b[0m\u001b[0;34m\u001b[0m\u001b[0;34m\u001b[0m\u001b[0m\n",
      "\u001b[0;31mAttributeError\u001b[0m: 'Learner' object has no attribute 'data'"
     ]
    }
   ],
   "source": [
    "predict_one(\"data/Guacamole-lime.jpg\")"
   ]
  },
  {
   "cell_type": "code",
   "execution_count": null,
   "metadata": {},
   "outputs": [],
   "source": []
  },
  {
   "cell_type": "code",
   "execution_count": null,
   "metadata": {
    "papermill": {
     "duration": 0.088034,
     "end_time": "2018-11-12T12:54:58.140867",
     "exception": false,
     "start_time": "2018-11-12T12:54:58.052833",
     "status": "completed"
    },
    "tags": []
   },
   "outputs": [],
   "source": []
  },
  {
   "cell_type": "markdown",
   "metadata": {
    "papermill": {
     "duration": 0.085298,
     "end_time": "2018-11-12T12:54:58.312814",
     "exception": false,
     "start_time": "2018-11-12T12:54:58.227516",
     "status": "completed"
    },
    "tags": []
   },
   "source": [
    "# Vers la Production"
   ]
  },
  {
   "cell_type": "markdown",
   "metadata": {},
   "source": [
    "To make our model available as a web app, we will need to save:\n",
    "- final model\n",
    "- list of class names"
   ]
  },
  {
   "cell_type": "code",
   "execution_count": null,
   "metadata": {},
   "outputs": [],
   "source": []
  },
  {
   "cell_type": "code",
   "execution_count": 52,
   "metadata": {
    "collapsed": true
   },
   "outputs": [
    {
     "ename": "FileNotFoundError",
     "evalue": "[Errno 2] No such file or directory: 'data/food-101/images/models/data/food-101/images/models/resnet34-final.pth.pth'",
     "output_type": "error",
     "traceback": [
      "\u001b[0;31m---------------------------------------------------------------------------\u001b[0m",
      "\u001b[0;31mFileNotFoundError\u001b[0m                         Traceback (most recent call last)",
      "\u001b[0;32m<ipython-input-52-738646ed1992>\u001b[0m in \u001b[0;36m<module>\u001b[0;34m\u001b[0m\n\u001b[0;32m----> 1\u001b[0;31m \u001b[0mlearn\u001b[0m\u001b[0;34m.\u001b[0m\u001b[0mload\u001b[0m\u001b[0;34m(\u001b[0m\u001b[0;34m\"data/food-101/images/models/resnet34-final.pth\"\u001b[0m\u001b[0;34m)\u001b[0m\u001b[0;34m\u001b[0m\u001b[0;34m\u001b[0m\u001b[0m\n\u001b[0m",
      "\u001b[0;32m~/Work/Projet/formation_projFinal/mongueuleton/env_mgt/lib/python3.8/site-packages/fastai/learner.py\u001b[0m in \u001b[0;36mload\u001b[0;34m(self, file, with_opt, device, **kwargs)\u001b[0m\n\u001b[1;32m    289\u001b[0m         \u001b[0;32mif\u001b[0m \u001b[0mself\u001b[0m\u001b[0;34m.\u001b[0m\u001b[0mopt\u001b[0m \u001b[0;32mis\u001b[0m \u001b[0;32mNone\u001b[0m\u001b[0;34m:\u001b[0m \u001b[0mself\u001b[0m\u001b[0;34m.\u001b[0m\u001b[0mcreate_opt\u001b[0m\u001b[0;34m(\u001b[0m\u001b[0;34m)\u001b[0m\u001b[0;34m\u001b[0m\u001b[0;34m\u001b[0m\u001b[0m\n\u001b[1;32m    290\u001b[0m         \u001b[0mfile\u001b[0m \u001b[0;34m=\u001b[0m \u001b[0mjoin_path_file\u001b[0m\u001b[0;34m(\u001b[0m\u001b[0mfile\u001b[0m\u001b[0;34m,\u001b[0m \u001b[0mself\u001b[0m\u001b[0;34m.\u001b[0m\u001b[0mpath\u001b[0m\u001b[0;34m/\u001b[0m\u001b[0mself\u001b[0m\u001b[0;34m.\u001b[0m\u001b[0mmodel_dir\u001b[0m\u001b[0;34m,\u001b[0m \u001b[0mext\u001b[0m\u001b[0;34m=\u001b[0m\u001b[0;34m'.pth'\u001b[0m\u001b[0;34m)\u001b[0m\u001b[0;34m\u001b[0m\u001b[0;34m\u001b[0m\u001b[0m\n\u001b[0;32m--> 291\u001b[0;31m         \u001b[0mload_model\u001b[0m\u001b[0;34m(\u001b[0m\u001b[0mfile\u001b[0m\u001b[0;34m,\u001b[0m \u001b[0mself\u001b[0m\u001b[0;34m.\u001b[0m\u001b[0mmodel\u001b[0m\u001b[0;34m,\u001b[0m \u001b[0mself\u001b[0m\u001b[0;34m.\u001b[0m\u001b[0mopt\u001b[0m\u001b[0;34m,\u001b[0m \u001b[0mdevice\u001b[0m\u001b[0;34m=\u001b[0m\u001b[0mdevice\u001b[0m\u001b[0;34m,\u001b[0m \u001b[0;34m**\u001b[0m\u001b[0mkwargs\u001b[0m\u001b[0;34m)\u001b[0m\u001b[0;34m\u001b[0m\u001b[0;34m\u001b[0m\u001b[0m\n\u001b[0m\u001b[1;32m    292\u001b[0m         \u001b[0;32mreturn\u001b[0m \u001b[0mself\u001b[0m\u001b[0;34m\u001b[0m\u001b[0;34m\u001b[0m\u001b[0m\n\u001b[1;32m    293\u001b[0m \u001b[0;34m\u001b[0m\u001b[0m\n",
      "\u001b[0;32m~/Work/Projet/formation_projFinal/mongueuleton/env_mgt/lib/python3.8/site-packages/fastai/learner.py\u001b[0m in \u001b[0;36mload_model\u001b[0;34m(file, model, opt, with_opt, device, strict)\u001b[0m\n\u001b[1;32m     44\u001b[0m     \u001b[0;32mif\u001b[0m \u001b[0misinstance\u001b[0m\u001b[0;34m(\u001b[0m\u001b[0mdevice\u001b[0m\u001b[0;34m,\u001b[0m \u001b[0mint\u001b[0m\u001b[0;34m)\u001b[0m\u001b[0;34m:\u001b[0m \u001b[0mdevice\u001b[0m \u001b[0;34m=\u001b[0m \u001b[0mtorch\u001b[0m\u001b[0;34m.\u001b[0m\u001b[0mdevice\u001b[0m\u001b[0;34m(\u001b[0m\u001b[0;34m'cuda'\u001b[0m\u001b[0;34m,\u001b[0m \u001b[0mdevice\u001b[0m\u001b[0;34m)\u001b[0m\u001b[0;34m\u001b[0m\u001b[0;34m\u001b[0m\u001b[0m\n\u001b[1;32m     45\u001b[0m     \u001b[0;32melif\u001b[0m \u001b[0mdevice\u001b[0m \u001b[0;32mis\u001b[0m \u001b[0;32mNone\u001b[0m\u001b[0;34m:\u001b[0m \u001b[0mdevice\u001b[0m \u001b[0;34m=\u001b[0m \u001b[0;34m'cpu'\u001b[0m\u001b[0;34m\u001b[0m\u001b[0;34m\u001b[0m\u001b[0m\n\u001b[0;32m---> 46\u001b[0;31m     \u001b[0mstate\u001b[0m \u001b[0;34m=\u001b[0m \u001b[0mtorch\u001b[0m\u001b[0;34m.\u001b[0m\u001b[0mload\u001b[0m\u001b[0;34m(\u001b[0m\u001b[0mfile\u001b[0m\u001b[0;34m,\u001b[0m \u001b[0mmap_location\u001b[0m\u001b[0;34m=\u001b[0m\u001b[0mdevice\u001b[0m\u001b[0;34m)\u001b[0m\u001b[0;34m\u001b[0m\u001b[0;34m\u001b[0m\u001b[0m\n\u001b[0m\u001b[1;32m     47\u001b[0m     \u001b[0mhasopt\u001b[0m \u001b[0;34m=\u001b[0m \u001b[0mset\u001b[0m\u001b[0;34m(\u001b[0m\u001b[0mstate\u001b[0m\u001b[0;34m)\u001b[0m\u001b[0;34m==\u001b[0m\u001b[0;34m{\u001b[0m\u001b[0;34m'model'\u001b[0m\u001b[0;34m,\u001b[0m \u001b[0;34m'opt'\u001b[0m\u001b[0;34m}\u001b[0m\u001b[0;34m\u001b[0m\u001b[0;34m\u001b[0m\u001b[0m\n\u001b[1;32m     48\u001b[0m     \u001b[0mmodel_state\u001b[0m \u001b[0;34m=\u001b[0m \u001b[0mstate\u001b[0m\u001b[0;34m[\u001b[0m\u001b[0;34m'model'\u001b[0m\u001b[0;34m]\u001b[0m \u001b[0;32mif\u001b[0m \u001b[0mhasopt\u001b[0m \u001b[0;32melse\u001b[0m \u001b[0mstate\u001b[0m\u001b[0;34m\u001b[0m\u001b[0;34m\u001b[0m\u001b[0m\n",
      "\u001b[0;32m~/Work/Projet/formation_projFinal/mongueuleton/env_mgt/lib/python3.8/site-packages/torch/serialization.py\u001b[0m in \u001b[0;36mload\u001b[0;34m(f, map_location, pickle_module, **pickle_load_args)\u001b[0m\n\u001b[1;32m    579\u001b[0m         \u001b[0mpickle_load_args\u001b[0m\u001b[0;34m[\u001b[0m\u001b[0;34m'encoding'\u001b[0m\u001b[0;34m]\u001b[0m \u001b[0;34m=\u001b[0m \u001b[0;34m'utf-8'\u001b[0m\u001b[0;34m\u001b[0m\u001b[0;34m\u001b[0m\u001b[0m\n\u001b[1;32m    580\u001b[0m \u001b[0;34m\u001b[0m\u001b[0m\n\u001b[0;32m--> 581\u001b[0;31m     \u001b[0;32mwith\u001b[0m \u001b[0m_open_file_like\u001b[0m\u001b[0;34m(\u001b[0m\u001b[0mf\u001b[0m\u001b[0;34m,\u001b[0m \u001b[0;34m'rb'\u001b[0m\u001b[0;34m)\u001b[0m \u001b[0;32mas\u001b[0m \u001b[0mopened_file\u001b[0m\u001b[0;34m:\u001b[0m\u001b[0;34m\u001b[0m\u001b[0;34m\u001b[0m\u001b[0m\n\u001b[0m\u001b[1;32m    582\u001b[0m         \u001b[0;32mif\u001b[0m \u001b[0m_is_zipfile\u001b[0m\u001b[0;34m(\u001b[0m\u001b[0mopened_file\u001b[0m\u001b[0;34m)\u001b[0m\u001b[0;34m:\u001b[0m\u001b[0;34m\u001b[0m\u001b[0;34m\u001b[0m\u001b[0m\n\u001b[1;32m    583\u001b[0m             \u001b[0;31m# The zipfile reader is going to advance the current file position.\u001b[0m\u001b[0;34m\u001b[0m\u001b[0;34m\u001b[0m\u001b[0;34m\u001b[0m\u001b[0m\n",
      "\u001b[0;32m~/Work/Projet/formation_projFinal/mongueuleton/env_mgt/lib/python3.8/site-packages/torch/serialization.py\u001b[0m in \u001b[0;36m_open_file_like\u001b[0;34m(name_or_buffer, mode)\u001b[0m\n\u001b[1;32m    228\u001b[0m \u001b[0;32mdef\u001b[0m \u001b[0m_open_file_like\u001b[0m\u001b[0;34m(\u001b[0m\u001b[0mname_or_buffer\u001b[0m\u001b[0;34m,\u001b[0m \u001b[0mmode\u001b[0m\u001b[0;34m)\u001b[0m\u001b[0;34m:\u001b[0m\u001b[0;34m\u001b[0m\u001b[0;34m\u001b[0m\u001b[0m\n\u001b[1;32m    229\u001b[0m     \u001b[0;32mif\u001b[0m \u001b[0m_is_path\u001b[0m\u001b[0;34m(\u001b[0m\u001b[0mname_or_buffer\u001b[0m\u001b[0;34m)\u001b[0m\u001b[0;34m:\u001b[0m\u001b[0;34m\u001b[0m\u001b[0;34m\u001b[0m\u001b[0m\n\u001b[0;32m--> 230\u001b[0;31m         \u001b[0;32mreturn\u001b[0m \u001b[0m_open_file\u001b[0m\u001b[0;34m(\u001b[0m\u001b[0mname_or_buffer\u001b[0m\u001b[0;34m,\u001b[0m \u001b[0mmode\u001b[0m\u001b[0;34m)\u001b[0m\u001b[0;34m\u001b[0m\u001b[0;34m\u001b[0m\u001b[0m\n\u001b[0m\u001b[1;32m    231\u001b[0m     \u001b[0;32melse\u001b[0m\u001b[0;34m:\u001b[0m\u001b[0;34m\u001b[0m\u001b[0;34m\u001b[0m\u001b[0m\n\u001b[1;32m    232\u001b[0m         \u001b[0;32mif\u001b[0m \u001b[0;34m'w'\u001b[0m \u001b[0;32min\u001b[0m \u001b[0mmode\u001b[0m\u001b[0;34m:\u001b[0m\u001b[0;34m\u001b[0m\u001b[0;34m\u001b[0m\u001b[0m\n",
      "\u001b[0;32m~/Work/Projet/formation_projFinal/mongueuleton/env_mgt/lib/python3.8/site-packages/torch/serialization.py\u001b[0m in \u001b[0;36m__init__\u001b[0;34m(self, name, mode)\u001b[0m\n\u001b[1;32m    209\u001b[0m \u001b[0;32mclass\u001b[0m \u001b[0m_open_file\u001b[0m\u001b[0;34m(\u001b[0m\u001b[0m_opener\u001b[0m\u001b[0;34m)\u001b[0m\u001b[0;34m:\u001b[0m\u001b[0;34m\u001b[0m\u001b[0;34m\u001b[0m\u001b[0m\n\u001b[1;32m    210\u001b[0m     \u001b[0;32mdef\u001b[0m \u001b[0m__init__\u001b[0m\u001b[0;34m(\u001b[0m\u001b[0mself\u001b[0m\u001b[0;34m,\u001b[0m \u001b[0mname\u001b[0m\u001b[0;34m,\u001b[0m \u001b[0mmode\u001b[0m\u001b[0;34m)\u001b[0m\u001b[0;34m:\u001b[0m\u001b[0;34m\u001b[0m\u001b[0;34m\u001b[0m\u001b[0m\n\u001b[0;32m--> 211\u001b[0;31m         \u001b[0msuper\u001b[0m\u001b[0;34m(\u001b[0m\u001b[0m_open_file\u001b[0m\u001b[0;34m,\u001b[0m \u001b[0mself\u001b[0m\u001b[0;34m)\u001b[0m\u001b[0;34m.\u001b[0m\u001b[0m__init__\u001b[0m\u001b[0;34m(\u001b[0m\u001b[0mopen\u001b[0m\u001b[0;34m(\u001b[0m\u001b[0mname\u001b[0m\u001b[0;34m,\u001b[0m \u001b[0mmode\u001b[0m\u001b[0;34m)\u001b[0m\u001b[0;34m)\u001b[0m\u001b[0;34m\u001b[0m\u001b[0;34m\u001b[0m\u001b[0m\n\u001b[0m\u001b[1;32m    212\u001b[0m \u001b[0;34m\u001b[0m\u001b[0m\n\u001b[1;32m    213\u001b[0m     \u001b[0;32mdef\u001b[0m \u001b[0m__exit__\u001b[0m\u001b[0;34m(\u001b[0m\u001b[0mself\u001b[0m\u001b[0;34m,\u001b[0m \u001b[0;34m*\u001b[0m\u001b[0margs\u001b[0m\u001b[0;34m)\u001b[0m\u001b[0;34m:\u001b[0m\u001b[0;34m\u001b[0m\u001b[0;34m\u001b[0m\u001b[0m\n",
      "\u001b[0;31mFileNotFoundError\u001b[0m: [Errno 2] No such file or directory: 'data/food-101/images/models/data/food-101/images/models/resnet34-final.pth.pth'"
     ]
    }
   ],
   "source": [
    "#learn.load(\"data/food-101/images/models/resnet34-final.pth\")"
   ]
  },
  {
   "cell_type": "markdown",
   "metadata": {},
   "source": [
    "Remove existing model artifacts"
   ]
  },
  {
   "cell_type": "code",
   "execution_count": 84,
   "metadata": {
    "papermill": {
     "duration": 0.288201,
     "end_time": "2018-11-12T12:54:58.896614",
     "exception": false,
     "start_time": "2018-11-12T12:54:58.608413",
     "status": "completed"
    },
    "tags": []
   },
   "outputs": [],
   "source": [
    "#shutil.rmtree(\"../models\",ignore_errors=True)"
   ]
  },
  {
   "cell_type": "markdown",
   "metadata": {},
   "source": [
    "Copy the models stored locally to folder above"
   ]
  },
  {
   "cell_type": "code",
   "execution_count": 85,
   "metadata": {},
   "outputs": [
    {
     "data": {
      "text/plain": [
       "'/home/ubuntu/projects/food-classifier/notebooks/../models'"
      ]
     },
     "execution_count": 85,
     "metadata": {},
     "output_type": "execute_result"
    }
   ],
   "source": []
  },
  {
   "cell_type": "code",
   "execution_count": null,
   "metadata": {},
   "outputs": [],
   "source": [
    "#final_model_directory = os.getcwd()+ \"/../models\""
   ]
  },
  {
   "cell_type": "code",
   "execution_count": 19,
   "metadata": {},
   "outputs": [],
   "source": [
    "final_model_name='model2.pkl'"
   ]
  },
  {
   "cell_type": "markdown",
   "metadata": {},
   "source": [
    "#### Export le modèle"
   ]
  },
  {
   "cell_type": "code",
   "execution_count": 20,
   "metadata": {},
   "outputs": [],
   "source": [
    "#learn.export(final_model_name)"
   ]
  },
  {
   "cell_type": "code",
   "execution_count": 22,
   "metadata": {
    "scrolled": true
   },
   "outputs": [],
   "source": [
    "#learn.export(final_model_directory+f\"/{final_model_name}\")"
   ]
  },
  {
   "cell_type": "code",
   "execution_count": null,
   "metadata": {},
   "outputs": [],
   "source": []
  },
  {
   "cell_type": "code",
   "execution_count": 39,
   "metadata": {},
   "outputs": [
    {
     "name": "stdout",
     "output_type": "stream",
     "text": [
      "/home/sylla/Work/Projet/formation_projFinal/mongueuleton/entrainement\r\n"
     ]
    }
   ],
   "source": [
    "!pwd"
   ]
  },
  {
   "cell_type": "markdown",
   "metadata": {},
   "source": [
    "Save the list of classes"
   ]
  },
  {
   "cell_type": "code",
   "execution_count": 23,
   "metadata": {
    "ExecuteTime": {
     "end_time": "2020-10-30T11:29:24.314719Z",
     "start_time": "2020-10-30T11:29:24.225671Z"
    },
    "papermill": {
     "duration": 0.103373,
     "end_time": "2018-11-12T12:55:01.170158",
     "exception": false,
     "start_time": "2018-11-12T12:55:01.066785",
     "status": "completed"
    },
    "tags": []
   },
   "outputs": [],
   "source": [
    "#with open('../models/classes.txt', 'w') as f:\n",
    "#    json.dump(learn.data.classes,f)"
   ]
  },
  {
   "cell_type": "code",
   "execution_count": null,
   "metadata": {},
   "outputs": [],
   "source": []
  },
  {
   "cell_type": "markdown",
   "metadata": {},
   "source": [
    "## Teste POC déployement"
   ]
  },
  {
   "cell_type": "code",
   "execution_count": null,
   "metadata": {},
   "outputs": [],
   "source": []
  },
  {
   "cell_type": "code",
   "execution_count": 141,
   "metadata": {},
   "outputs": [
    {
     "name": "stdout",
     "output_type": "stream",
     "text": [
      "\u001b[31mERROR: voila 0.2.4 has requirement nbconvert<7,>=6.0.0, but you'll have nbconvert 5.6.1 which is incompatible.\u001b[0m\r\n",
      "\u001b[31mERROR: torchaudio 0.7.0 has requirement torch==1.7.0, but you'll have torch 1.6.0 which is incompatible.\u001b[0m\r\n",
      "\u001b[31mERROR: nbdev 1.1.5 has requirement fastcore>=1.3.1, but you'll have fastcore 1.3.0 which is incompatible.\u001b[0m\r\n"
     ]
    },
    {
     "name": "stderr",
     "output_type": "stream",
     "text": [
      "/home/sylla/Work/Projet/formation_projFinal/mongueuleton/env_mgt/lib/python3.8/site-packages/fastbook/__init__.py:22: UserWarning: Missing `graphviz` - please run `conda install fastbook`\n",
      "  except ModuleNotFoundError: warn(\"Missing `graphviz` - please run `conda install fastbook`\")\n"
     ]
    }
   ],
   "source": [
    "#!pip install -Uqq fastbook\n",
    "#import fastbook\n",
    "#fastbook.setup_book()\n",
    "\n",
    "#from fastbook import *\n",
    "#from fastai.vision.widgets import *"
   ]
  },
  {
   "cell_type": "code",
   "execution_count": 140,
   "metadata": {},
   "outputs": [],
   "source": [
    "from fastai.vision.widgets import *\n",
    "btn_upload = widgets.FileUpload()\n",
    "out_pl = widgets.Output()\n",
    "lbl_pred = widgets.Label()"
   ]
  },
  {
   "cell_type": "code",
   "execution_count": 139,
   "metadata": {
    "collapsed": true
   },
   "outputs": [
    {
     "name": "stdout",
     "output_type": "stream",
     "text": [
      "Collecting voila\n",
      "  Downloading voila-0.2.4-py3-none-any.whl (1.9 MB)\n",
      "\u001b[K     |████████████████████████████████| 1.9 MB 8.3 MB/s eta 0:00:01\n",
      "\u001b[?25hRequirement already satisfied: nbconvert<7,>=6.0.0 in /home/sylla/Work/Projet/formation_projFinal/mongueuleton/env_mgt/lib/python3.8/site-packages (from voila) (6.0.7)\n",
      "Collecting jupyter-server<2.0.0,>=0.3.0\n",
      "  Downloading jupyter_server-1.0.5-py3-none-any.whl (196 kB)\n",
      "\u001b[K     |████████████████████████████████| 196 kB 144.6 MB/s eta 0:00:01\n",
      "\u001b[?25hRequirement already satisfied: nbclient<0.6,>=0.4.0 in /home/sylla/Work/Projet/formation_projFinal/mongueuleton/env_mgt/lib/python3.8/site-packages (from voila) (0.5.1)\n",
      "Requirement already satisfied: jupyter-client<7,>=6.1.3 in /home/sylla/Work/Projet/formation_projFinal/mongueuleton/env_mgt/lib/python3.8/site-packages (from voila) (6.1.7)\n",
      "Requirement already satisfied: pandocfilters>=1.4.1 in /home/sylla/Work/Projet/formation_projFinal/mongueuleton/env_mgt/lib/python3.8/site-packages (from nbconvert<7,>=6.0.0->voila) (1.4.3)\n",
      "Requirement already satisfied: mistune<2,>=0.8.1 in /home/sylla/Work/Projet/formation_projFinal/mongueuleton/env_mgt/lib/python3.8/site-packages (from nbconvert<7,>=6.0.0->voila) (0.8.4)\n",
      "Requirement already satisfied: jinja2>=2.4 in /home/sylla/Work/Projet/formation_projFinal/mongueuleton/env_mgt/lib/python3.8/site-packages (from nbconvert<7,>=6.0.0->voila) (2.11.2)\n",
      "Requirement already satisfied: traitlets>=4.2 in /home/sylla/Work/Projet/formation_projFinal/mongueuleton/env_mgt/lib/python3.8/site-packages (from nbconvert<7,>=6.0.0->voila) (5.0.5)\n",
      "Requirement already satisfied: jupyterlab-pygments in /home/sylla/Work/Projet/formation_projFinal/mongueuleton/env_mgt/lib/python3.8/site-packages (from nbconvert<7,>=6.0.0->voila) (0.1.2)\n",
      "Requirement already satisfied: jupyter-core in /home/sylla/Work/Projet/formation_projFinal/mongueuleton/env_mgt/lib/python3.8/site-packages (from nbconvert<7,>=6.0.0->voila) (4.6.3)\n",
      "Requirement already satisfied: entrypoints>=0.2.2 in /home/sylla/Work/Projet/formation_projFinal/mongueuleton/env_mgt/lib/python3.8/site-packages (from nbconvert<7,>=6.0.0->voila) (0.3)\n",
      "Requirement already satisfied: nbformat>=4.4 in /home/sylla/Work/Projet/formation_projFinal/mongueuleton/env_mgt/lib/python3.8/site-packages (from nbconvert<7,>=6.0.0->voila) (5.0.8)\n",
      "Requirement already satisfied: pygments>=2.4.1 in /home/sylla/Work/Projet/formation_projFinal/mongueuleton/env_mgt/lib/python3.8/site-packages (from nbconvert<7,>=6.0.0->voila) (2.7.2)\n",
      "Requirement already satisfied: bleach in /home/sylla/Work/Projet/formation_projFinal/mongueuleton/env_mgt/lib/python3.8/site-packages (from nbconvert<7,>=6.0.0->voila) (3.2.1)\n",
      "Requirement already satisfied: defusedxml in /home/sylla/Work/Projet/formation_projFinal/mongueuleton/env_mgt/lib/python3.8/site-packages (from nbconvert<7,>=6.0.0->voila) (0.6.0)\n",
      "Requirement already satisfied: testpath in /home/sylla/Work/Projet/formation_projFinal/mongueuleton/env_mgt/lib/python3.8/site-packages (from nbconvert<7,>=6.0.0->voila) (0.4.4)\n",
      "Requirement already satisfied: tornado>=5.0 in /home/sylla/Work/Projet/formation_projFinal/mongueuleton/env_mgt/lib/python3.8/site-packages (from jupyter-server<2.0.0,>=0.3.0->voila) (6.1)\n",
      "Requirement already satisfied: prometheus-client in /home/sylla/Work/Projet/formation_projFinal/mongueuleton/env_mgt/lib/python3.8/site-packages (from jupyter-server<2.0.0,>=0.3.0->voila) (0.8.0)\n",
      "Requirement already satisfied: terminado>=0.8.3 in /home/sylla/Work/Projet/formation_projFinal/mongueuleton/env_mgt/lib/python3.8/site-packages (from jupyter-server<2.0.0,>=0.3.0->voila) (0.9.1)\n",
      "Requirement already satisfied: Send2Trash in /home/sylla/Work/Projet/formation_projFinal/mongueuleton/env_mgt/lib/python3.8/site-packages (from jupyter-server<2.0.0,>=0.3.0->voila) (1.5.0)\n",
      "Requirement already satisfied: pyzmq>=17 in /home/sylla/Work/Projet/formation_projFinal/mongueuleton/env_mgt/lib/python3.8/site-packages (from jupyter-server<2.0.0,>=0.3.0->voila) (19.0.2)\n",
      "Requirement already satisfied: ipython-genutils in /home/sylla/Work/Projet/formation_projFinal/mongueuleton/env_mgt/lib/python3.8/site-packages (from jupyter-server<2.0.0,>=0.3.0->voila) (0.2.0)\n",
      "Requirement already satisfied: async-generator in /home/sylla/Work/Projet/formation_projFinal/mongueuleton/env_mgt/lib/python3.8/site-packages (from nbclient<0.6,>=0.4.0->voila) (1.10)\n",
      "Requirement already satisfied: nest-asyncio in /home/sylla/Work/Projet/formation_projFinal/mongueuleton/env_mgt/lib/python3.8/site-packages (from nbclient<0.6,>=0.4.0->voila) (1.4.2)\n",
      "Requirement already satisfied: python-dateutil>=2.1 in /home/sylla/Work/Projet/formation_projFinal/mongueuleton/env_mgt/lib/python3.8/site-packages (from jupyter-client<7,>=6.1.3->voila) (2.8.1)\n",
      "Requirement already satisfied: MarkupSafe>=0.23 in /home/sylla/Work/Projet/formation_projFinal/mongueuleton/env_mgt/lib/python3.8/site-packages (from jinja2>=2.4->nbconvert<7,>=6.0.0->voila) (1.1.1)\n",
      "Requirement already satisfied: jsonschema!=2.5.0,>=2.4 in /home/sylla/Work/Projet/formation_projFinal/mongueuleton/env_mgt/lib/python3.8/site-packages (from nbformat>=4.4->nbconvert<7,>=6.0.0->voila) (3.2.0)\n",
      "Requirement already satisfied: six>=1.9.0 in /home/sylla/Work/Projet/formation_projFinal/mongueuleton/env_mgt/lib/python3.8/site-packages (from bleach->nbconvert<7,>=6.0.0->voila) (1.14.0)\n",
      "Requirement already satisfied: packaging in /home/sylla/Work/Projet/formation_projFinal/mongueuleton/env_mgt/lib/python3.8/site-packages (from bleach->nbconvert<7,>=6.0.0->voila) (20.3)\n",
      "Requirement already satisfied: webencodings in /home/sylla/Work/Projet/formation_projFinal/mongueuleton/env_mgt/lib/python3.8/site-packages (from bleach->nbconvert<7,>=6.0.0->voila) (0.5.1)\n",
      "Requirement already satisfied: ptyprocess; os_name != \"nt\" in /home/sylla/Work/Projet/formation_projFinal/mongueuleton/env_mgt/lib/python3.8/site-packages (from terminado>=0.8.3->jupyter-server<2.0.0,>=0.3.0->voila) (0.6.0)\n",
      "Requirement already satisfied: setuptools in /home/sylla/Work/Projet/formation_projFinal/mongueuleton/env_mgt/lib/python3.8/site-packages (from jsonschema!=2.5.0,>=2.4->nbformat>=4.4->nbconvert<7,>=6.0.0->voila) (44.0.0)\n",
      "Requirement already satisfied: attrs>=17.4.0 in /home/sylla/Work/Projet/formation_projFinal/mongueuleton/env_mgt/lib/python3.8/site-packages (from jsonschema!=2.5.0,>=2.4->nbformat>=4.4->nbconvert<7,>=6.0.0->voila) (20.2.0)\n",
      "Requirement already satisfied: pyrsistent>=0.14.0 in /home/sylla/Work/Projet/formation_projFinal/mongueuleton/env_mgt/lib/python3.8/site-packages (from jsonschema!=2.5.0,>=2.4->nbformat>=4.4->nbconvert<7,>=6.0.0->voila) (0.17.3)\n",
      "Installing collected packages: jupyter-server, voila\n",
      "Successfully installed jupyter-server-1.0.5 voila-0.2.4\n",
      "Enabling: voila\n",
      "- Writing config: /home/sylla/Work/Projet/formation_projFinal/mongueuleton/env_mgt/etc/jupyter\n",
      "    - Validating...\n",
      "      voila 0.2.4 \u001b[32mOK\u001b[0m\n"
     ]
    }
   ],
   "source": [
    "!pip install voila\n",
    "!jupyter serverextension enable voila --sys-prefix"
   ]
  },
  {
   "cell_type": "code",
   "execution_count": null,
   "metadata": {},
   "outputs": [],
   "source": []
  }
 ],
 "metadata": {
  "kernelspec": {
   "display_name": "env_mgt",
   "language": "python",
   "name": "env_mgt"
  },
  "language_info": {
   "codemirror_mode": {
    "name": "ipython",
    "version": 3
   },
   "file_extension": ".py",
   "mimetype": "text/x-python",
   "name": "python",
   "nbconvert_exporter": "python",
   "pygments_lexer": "ipython3",
   "version": "3.8.5"
  },
  "papermill": {
   "duration": 4122.912869,
   "end_time": "2018-11-12T12:55:04.011204",
   "environment_variables": {},
   "exception": null,
   "input_path": "1_train_large.ipynb",
   "output_path": "1_train_large_output.ipynb",
   "parameters": {},
   "start_time": "2018-11-12T11:46:21.098335",
   "version": "0.16.0"
  },
  "toc": {
   "base_numbering": 1,
   "nav_menu": {},
   "number_sections": true,
   "sideBar": true,
   "skip_h1_title": false,
   "title_cell": "Table of Contents",
   "title_sidebar": "Contents",
   "toc_cell": false,
   "toc_position": {},
   "toc_section_display": true,
   "toc_window_display": false
  },
  "varInspector": {
   "cols": {
    "lenName": 16,
    "lenType": 16,
    "lenVar": 40
   },
   "kernels_config": {
    "python": {
     "delete_cmd_postfix": "",
     "delete_cmd_prefix": "del ",
     "library": "var_list.py",
     "varRefreshCmd": "print(var_dic_list())"
    },
    "r": {
     "delete_cmd_postfix": ") ",
     "delete_cmd_prefix": "rm(",
     "library": "var_list.r",
     "varRefreshCmd": "cat(var_dic_list()) "
    }
   },
   "types_to_exclude": [
    "module",
    "function",
    "builtin_function_or_method",
    "instance",
    "_Feature"
   ],
   "window_display": false
  }
 },
 "nbformat": 4,
 "nbformat_minor": 2
}
